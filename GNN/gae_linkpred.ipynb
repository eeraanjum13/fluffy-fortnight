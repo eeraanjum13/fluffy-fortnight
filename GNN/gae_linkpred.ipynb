{
 "cells": [
  {
   "cell_type": "code",
   "execution_count": 1,
   "metadata": {},
   "outputs": [],
   "source": [
    "import os.path as osp\n",
    "\n",
    "import torch\n",
    "import torch.nn as nn\n",
    "import torch.nn.functional as F\n",
    "from sklearn.metrics import roc_auc_score\n",
    "from torch_geometric.utils import negative_sampling\n",
    "from torch_geometric.datasets import Planetoid\n",
    "import torch_geometric.transforms as T\n",
    "from torch_geometric.nn import GCNConv\n",
    "from torch_geometric.utils import train_test_split_edges\n"
   ]
  },
  {
   "cell_type": "code",
   "execution_count": 2,
   "metadata": {},
   "outputs": [
    {
     "name": "stdout",
     "output_type": "stream",
     "text": [
      "Data(x=[2708, 1433], edge_index=[2, 10556], y=[2708], train_mask=[2708], val_mask=[2708], test_mask=[2708])\n"
     ]
    }
   ],
   "source": [
    "# load the Cora dataset\n",
    "dataset = 'Cora'\n",
    "path = osp.join('.', 'data', dataset)\n",
    "dataset = Planetoid(path, dataset, transform=T.NormalizeFeatures())\n",
    "data = dataset[0]\n",
    "print(dataset.data)"
   ]
  },
  {
   "cell_type": "code",
   "execution_count": 3,
   "metadata": {},
   "outputs": [
    {
     "name": "stderr",
     "output_type": "stream",
     "text": [
      "/Users/sadiaanjum/miniconda3/envs/py_env/lib/python3.8/site-packages/torch_geometric/deprecation.py:13: UserWarning: 'train_test_split_edges' is deprecated, use 'transforms.RandomLinkSplit' instead\n",
      "  warnings.warn(out)\n"
     ]
    },
    {
     "name": "stdout",
     "output_type": "stream",
     "text": [
      "Data(x=[2708, 1433], val_pos_edge_index=[2, 263], test_pos_edge_index=[2, 527], train_pos_edge_index=[2, 8976], train_neg_adj_mask=[2708, 2708], val_neg_edge_index=[2, 263], test_neg_edge_index=[2, 527])\n"
     ]
    }
   ],
   "source": [
    "# use train_test_split_edges to create neg and positive edges\n",
    "data.train_mask = data.val_mask = data.test_mask = data.y = None\n",
    "data = train_test_split_edges(data)  # can input test and val ratios \n",
    "print(data)"
   ]
  },
  {
   "cell_type": "code",
   "execution_count": 4,
   "metadata": {},
   "outputs": [
    {
     "data": {
      "text/plain": [
       "tensor([[1025,  920, 2053,  ...,  938, 2105, 1632],\n",
       "        [2305, 1650, 2104,  ..., 1753, 2258, 1641]])"
      ]
     },
     "execution_count": 4,
     "metadata": {},
     "output_type": "execute_result"
    }
   ],
   "source": [
    "data.test_neg_edge_index"
   ]
  },
  {
   "cell_type": "code",
   "execution_count": 5,
   "metadata": {},
   "outputs": [
    {
     "data": {
      "text/plain": [
       "(torch.Size([2708, 1433]), torch.Size([2, 8976]))"
      ]
     },
     "execution_count": 5,
     "metadata": {},
     "output_type": "execute_result"
    }
   ],
   "source": [
    "data.x.shape, data.train_pos_edge_index.shape"
   ]
  },
  {
   "cell_type": "code",
   "execution_count": 10,
   "metadata": {},
   "outputs": [],
   "source": [
    "#initializing the value of z to see what it looks like\n",
    "\n",
    "z = 0\n",
    "edge_idx_out = 0\n",
    "train_logits_out = 0"
   ]
  },
  {
   "cell_type": "code",
   "execution_count": 4,
   "metadata": {},
   "outputs": [],
   "source": [
    "class Net(torch.nn.Module):\n",
    "    def __init__(self):\n",
    "        super(Net, self).__init__()\n",
    "        self.conv1 = GCNConv(dataset.num_features, 128)\n",
    "        self.conv2 = GCNConv(128, 64)\n",
    "\n",
    "    def encode(self):\n",
    "        x = self.conv1(data.x, data.train_pos_edge_index) # convolution 1\n",
    "        x = x.relu()\n",
    "        return self.conv2(x, data.train_pos_edge_index) # convolution 2\n",
    "\n",
    "    def decode(self, z, pos_edge_index, neg_edge_index): # only pos and neg edges\n",
    "        edge_index = torch.cat([pos_edge_index, neg_edge_index], dim=-1) # concatenate pos and neg edges\n",
    "        logits = (z[edge_index[0]] * z[edge_index[1]]).sum(dim=-1)  # dot product \n",
    "        return logits\n",
    "\n",
    "    def decode_all(self, z): \n",
    "        prob_adj = z @ z.t() # get adj NxN\n",
    "        return (prob_adj > 0).nonzero(as_tuple=False).t() # get predicted edge_list "
   ]
  },
  {
   "cell_type": "code",
   "execution_count": 5,
   "metadata": {},
   "outputs": [
    {
     "name": "stdout",
     "output_type": "stream",
     "text": [
      " Train Positive Edge index:  tensor([[   0,    0,    0,  ..., 2707, 2707, 2707],\n",
      "        [ 633, 1862, 2582,  ...,  598, 1473, 2706]])\n",
      "negative sampled train edge index :  tensor([[ 230, 1915, 1004,  ...,  518,  699, 1119],\n",
      "        [1031, 2182, 2104,  ..., 1661,  934, 1593]])\n",
      "tensor([[   0,    0,    0,  ...,  518,  699, 1119],\n",
      "        [ 633, 1862, 2582,  ..., 1661,  934, 1593]])\n"
     ]
    }
   ],
   "source": [
    "#experiment\n",
    "\n",
    "neg_edge_index = negative_sampling(edge_index=data.train_pos_edge_index, #positive edges\n",
    "    num_nodes=data.num_nodes, # number of nodes\n",
    "    num_neg_samples=data.train_pos_edge_index.size(1))\n",
    "\n",
    "edge_index = torch.cat([data.train_pos_edge_index, neg_edge_index], dim=-1)\n",
    "\n",
    "\n",
    "print(\" Train Positive Edge index: \", data.train_pos_edge_index)\n",
    "print(\"negative sampled train edge index : \", neg_edge_index)\n",
    "print(edge_index)"
   ]
  },
  {
   "cell_type": "code",
   "execution_count": 6,
   "metadata": {},
   "outputs": [],
   "source": [
    "# model and optrimizer initialize\n",
    "\n",
    "model = Net()\n",
    "optimizer = torch.optim.Adam(params=model.parameters(), lr=0.01)"
   ]
  },
  {
   "cell_type": "code",
   "execution_count": 7,
   "metadata": {},
   "outputs": [],
   "source": [
    "\n",
    "def get_link_labels(pos_edge_index, neg_edge_index):\n",
    "    # returns a tensor:\n",
    "    # [1,1,1,1,...,0,0,0,0,0,..] with the number of ones is equel to the lenght of pos_edge_index\n",
    "    # and the number of zeros is equal to the length of neg_edge_index\n",
    "    E = pos_edge_index.size(1) + neg_edge_index.size(1)\n",
    "    link_labels = torch.zeros(E, dtype=torch.float)\n",
    "    link_labels[:pos_edge_index.size(1)] = 1.\n",
    "    return link_labels\n",
    "\n",
    "\n",
    "def train():\n",
    "    model.train()\n",
    "\n",
    "    neg_edge_index = negative_sampling(\n",
    "        edge_index=data.train_pos_edge_index, #positive edges\n",
    "        num_nodes=data.num_nodes, # number of nodes\n",
    "        num_neg_samples=data.train_pos_edge_index.size(1)) # number of neg_sample equal to number of pos_edges\n",
    "\n",
    "    optimizer.zero_grad()\n",
    "    \n",
    "    z = model.encode() #encode\n",
    "    link_logits = model.decode(z, data.train_pos_edge_index, neg_edge_index) # decode\n",
    "    \n",
    "    link_labels = get_link_labels(data.train_pos_edge_index, neg_edge_index)\n",
    "    loss = F.binary_cross_entropy_with_logits(link_logits, link_labels) # DIFFERENCE between logits and links \n",
    "    loss.backward()\n",
    "    optimizer.step()\n",
    "\n",
    "    return loss, z \n",
    "\n",
    "\n",
    "@torch.no_grad()\n",
    "def test():\n",
    "    model.eval()\n",
    "    perfs = []\n",
    "    for prefix in [\"val\", \"test\"]:\n",
    "        pos_edge_index = data[f'{prefix}_pos_edge_index']\n",
    "        neg_edge_index = data[f'{prefix}_neg_edge_index']\n",
    "\n",
    "        z = model.encode() # encode train\n",
    "        link_logits = model.decode(z, pos_edge_index, neg_edge_index) # decode test or val\n",
    "        link_probs = link_logits.sigmoid() # apply sigmoid\n",
    "        \n",
    "        link_labels = get_link_labels(pos_edge_index, neg_edge_index) # get link\n",
    "        \n",
    "        perfs.append(roc_auc_score(link_labels.cpu(), link_probs.cpu())) #compute roc_auc score\n",
    "    return perfs\n"
   ]
  },
  {
   "cell_type": "code",
   "execution_count": 8,
   "metadata": {},
   "outputs": [
    {
     "name": "stdout",
     "output_type": "stream",
     "text": [
      "Epoch: 010, Loss: 0.6849, Val: 0.7233, Test: 0.7365\n",
      "Epoch: 020, Loss: 0.6366, Val: 0.7233, Test: 0.7365\n",
      "Epoch: 030, Loss: 0.5606, Val: 0.7480, Test: 0.7764\n",
      "Epoch: 040, Loss: 0.5111, Val: 0.8285, Test: 0.8460\n",
      "Epoch: 050, Loss: 0.4771, Val: 0.8587, Test: 0.8692\n",
      "Epoch: 060, Loss: 0.4688, Val: 0.8590, Test: 0.8886\n",
      "Epoch: 070, Loss: 0.4678, Val: 0.8623, Test: 0.8870\n",
      "Epoch: 080, Loss: 0.4593, Val: 0.8666, Test: 0.8932\n",
      "Epoch: 090, Loss: 0.4510, Val: 0.8753, Test: 0.8996\n",
      "Epoch: 100, Loss: 0.4447, Val: 0.8825, Test: 0.9051\n"
     ]
    }
   ],
   "source": [
    "best_val_perf = test_perf = 0\n",
    "for epoch in range(1, 101):\n",
    "    train_loss, z  = train()\n",
    "    val_perf, tmp_test_perf = test()\n",
    "    if val_perf > best_val_perf:\n",
    "        best_val_perf = val_perf\n",
    "        test_perf = tmp_test_perf\n",
    "    log = 'Epoch: {:03d}, Loss: {:.4f}, Val: {:.4f}, Test: {:.4f}'\n",
    "    if epoch % 10 == 0:\n",
    "        print(log.format(epoch, train_loss, best_val_perf, test_perf))"
   ]
  },
  {
   "cell_type": "code",
   "execution_count": 9,
   "metadata": {},
   "outputs": [
    {
     "name": "stdout",
     "output_type": "stream",
     "text": [
      "tensor([[ 0.0842,  0.1161, -0.3919,  ..., -0.1930,  0.2329, -0.3036],\n",
      "        [ 0.2228,  0.0164, -0.0316,  ...,  0.1760, -0.1775, -0.0110],\n",
      "        [ 0.2553,  0.1192, -0.1332,  ...,  0.1048, -0.1043, -0.0789],\n",
      "        ...,\n",
      "        [-0.0891, -0.0584, -0.1147,  ...,  0.0319,  0.1375, -0.1929],\n",
      "        [ 0.2289,  0.1896, -0.2989,  ..., -0.0774,  0.0509, -0.2078],\n",
      "        [ 0.1716,  0.2630, -0.3139,  ..., -0.1206,  0.1075, -0.2221]],\n",
      "       grad_fn=<AddBackward0>)\n"
     ]
    }
   ],
   "source": [
    "print(z)"
   ]
  },
  {
   "cell_type": "code",
   "execution_count": 11,
   "metadata": {},
   "outputs": [
    {
     "data": {
      "text/plain": [
       "tensor([[ 0.0842,  0.1161, -0.3919,  ..., -0.1930,  0.2329, -0.3036],\n",
       "        [ 0.0842,  0.1161, -0.3919,  ..., -0.1930,  0.2329, -0.3036],\n",
       "        [ 0.0842,  0.1161, -0.3919,  ..., -0.1930,  0.2329, -0.3036],\n",
       "        ...,\n",
       "        [-0.1536,  0.0089,  0.1703,  ...,  0.0804, -0.0374,  0.1541],\n",
       "        [-0.1116,  0.2604, -0.1583,  ..., -0.2681,  0.0696, -0.0921],\n",
       "        [ 0.4288,  0.3826,  0.2403,  ...,  0.0485, -0.2326, -0.2171]],\n",
       "       grad_fn=<IndexBackward0>)"
      ]
     },
     "execution_count": 11,
     "metadata": {},
     "output_type": "execute_result"
    }
   ],
   "source": [
    "z[edge_index[0]]"
   ]
  },
  {
   "cell_type": "code",
   "execution_count": 17,
   "metadata": {},
   "outputs": [
    {
     "data": {
      "text/plain": [
       "(tensor([   0,    0,    0,  ...,  518,  699, 1119]),\n",
       " tensor([ 633, 1862, 2582,  ..., 1661,  934, 1593]))"
      ]
     },
     "execution_count": 17,
     "metadata": {},
     "output_type": "execute_result"
    }
   ],
   "source": [
    "edge_index[0], edge_index[1]"
   ]
  },
  {
   "cell_type": "code",
   "execution_count": 18,
   "metadata": {},
   "outputs": [
    {
     "data": {
      "text/plain": [
       "(tensor([ 0.0842,  0.1161, -0.3919, -0.3125,  0.0420,  0.2137, -0.1114, -0.0886,\n",
       "         -0.3080, -0.1099, -0.1253,  0.1736, -0.1266, -0.1786, -0.0658, -0.0413,\n",
       "         -0.1444,  0.2327,  0.1802,  0.1453,  0.0230, -0.0880,  0.1947, -0.2468,\n",
       "         -0.0575, -0.0790, -0.0356,  0.1408, -0.0804,  0.3461, -0.0643, -0.0354,\n",
       "          0.2093, -0.0143,  0.0636, -0.1094, -0.1221, -0.1453, -0.3665, -0.1973,\n",
       "         -0.1546, -0.2013, -0.1228, -0.2422, -0.0269,  0.2767, -0.3096,  0.4554,\n",
       "          0.1123,  0.0790,  0.1547, -0.0062,  0.1694,  0.0316,  0.2772, -0.2790,\n",
       "          0.3547,  0.3170, -0.1324,  0.1133, -0.0635, -0.1930,  0.2329, -0.3036],\n",
       "        grad_fn=<SelectBackward0>),\n",
       " tensor([ 0.0918,  0.0551, -0.2775, -0.2002,  0.0357,  0.1627, -0.0915, -0.0977,\n",
       "         -0.2301, -0.0721, -0.0968,  0.1218, -0.0708, -0.1569, -0.0285, -0.0191,\n",
       "         -0.1273,  0.1191,  0.1455,  0.1034,  0.0004, -0.0507,  0.1636, -0.1862,\n",
       "         -0.0099, -0.0762, -0.0213,  0.0807, -0.0289,  0.2439, -0.0301, -0.0100,\n",
       "          0.1560, -0.0224,  0.0301, -0.0582, -0.0604, -0.0882, -0.2652, -0.1127,\n",
       "         -0.1290, -0.1878, -0.0695, -0.1632, -0.0406,  0.1970, -0.2081,  0.3431,\n",
       "          0.0521,  0.0621,  0.1464,  0.0071,  0.1409,  0.0470,  0.2134, -0.2383,\n",
       "          0.2213,  0.2500, -0.0909,  0.1018, -0.0751, -0.1168,  0.1678, -0.2386],\n",
       "        grad_fn=<SelectBackward0>))"
      ]
     },
     "execution_count": 18,
     "metadata": {},
     "output_type": "execute_result"
    }
   ],
   "source": [
    "z[0], z[633]"
   ]
  },
  {
   "cell_type": "code",
   "execution_count": 19,
   "metadata": {},
   "outputs": [
    {
     "data": {
      "text/plain": [
       "(torch.Size([64]), torch.Size([64]))"
      ]
     },
     "execution_count": 19,
     "metadata": {},
     "output_type": "execute_result"
    }
   ],
   "source": [
    "z[0].shape, z[633].shape"
   ]
  },
  {
   "cell_type": "code",
   "execution_count": 24,
   "metadata": {},
   "outputs": [
    {
     "data": {
      "text/plain": [
       "(tensor([[ 0.0842,  0.1161, -0.3919,  ..., -0.1930,  0.2329, -0.3036],\n",
       "         [ 0.0842,  0.1161, -0.3919,  ..., -0.1930,  0.2329, -0.3036],\n",
       "         [ 0.0842,  0.1161, -0.3919,  ..., -0.1930,  0.2329, -0.3036],\n",
       "         ...,\n",
       "         [-0.1536,  0.0089,  0.1703,  ...,  0.0804, -0.0374,  0.1541],\n",
       "         [-0.1116,  0.2604, -0.1583,  ..., -0.2681,  0.0696, -0.0921],\n",
       "         [ 0.4288,  0.3826,  0.2403,  ...,  0.0485, -0.2326, -0.2171]],\n",
       "        grad_fn=<IndexBackward0>),\n",
       " torch.Size([17952, 64]))"
      ]
     },
     "execution_count": 24,
     "metadata": {},
     "output_type": "execute_result"
    }
   ],
   "source": [
    "z[edge_index[0]], z[edge_index[0]].shape"
   ]
  },
  {
   "cell_type": "code",
   "execution_count": 22,
   "metadata": {},
   "outputs": [
    {
     "data": {
      "text/plain": [
       "torch.Size([17952, 64])"
      ]
     },
     "execution_count": 22,
     "metadata": {},
     "output_type": "execute_result"
    }
   ],
   "source": [
    "(z[edge_index[0]] * z[edge_index[1]]).shape"
   ]
  },
  {
   "cell_type": "code",
   "execution_count": 25,
   "metadata": {},
   "outputs": [
    {
     "data": {
      "text/plain": [
       "torch.Size([17952])"
      ]
     },
     "execution_count": 25,
     "metadata": {},
     "output_type": "execute_result"
    }
   ],
   "source": [
    "(z[edge_index[0]] * z[edge_index[1]]).sum(dim=-1).shape"
   ]
  },
  {
   "cell_type": "code",
   "execution_count": 26,
   "metadata": {},
   "outputs": [
    {
     "data": {
      "text/plain": [
       "tensor([[ 0.0077,  0.0064,  0.1087,  ...,  0.0225,  0.0391,  0.0724],\n",
       "        [ 0.0092,  0.0240,  0.1551,  ...,  0.0315,  0.0506,  0.0941],\n",
       "        [ 0.0069,  0.0076,  0.1301,  ...,  0.0276,  0.0462,  0.0758],\n",
       "        ...,\n",
       "        [ 0.0422,  0.0005,  0.0248,  ..., -0.0062,  0.0009,  0.0257],\n",
       "        [-0.0278, -0.0192, -0.0028,  ..., -0.0394, -0.0156, -0.0060],\n",
       "        [ 0.1128,  0.0070, -0.0023,  ...,  0.0135, -0.0626,  0.1179]],\n",
       "       grad_fn=<MulBackward0>)"
      ]
     },
     "execution_count": 26,
     "metadata": {},
     "output_type": "execute_result"
    }
   ],
   "source": [
    "(z[edge_index[0]] * z[edge_index[1]])"
   ]
  },
  {
   "cell_type": "code",
   "execution_count": 15,
   "metadata": {},
   "outputs": [
    {
     "name": "stdout",
     "output_type": "stream",
     "text": [
      "tensor([ 1.7371,  2.4267,  1.9721,  ...,  1.1782, -0.7469, -0.4176],\n",
      "       grad_fn=<SumBackward1>)\n"
     ]
    },
    {
     "data": {
      "text/plain": [
       "torch.Size([17952])"
      ]
     },
     "execution_count": 15,
     "metadata": {},
     "output_type": "execute_result"
    }
   ],
   "source": [
    "logits = (z[edge_index[0]] * z[edge_index[1]]).sum(dim=-1)\n",
    "print(logits)\n",
    "logits.shape"
   ]
  },
  {
   "cell_type": "code",
   "execution_count": 10,
   "metadata": {},
   "outputs": [
    {
     "data": {
      "text/plain": [
       "torch.Size([2708, 64])"
      ]
     },
     "execution_count": 10,
     "metadata": {},
     "output_type": "execute_result"
    }
   ],
   "source": [
    "z.shape"
   ]
  },
  {
   "cell_type": "code",
   "execution_count": null,
   "metadata": {},
   "outputs": [],
   "source": []
  },
  {
   "cell_type": "code",
   "execution_count": 18,
   "metadata": {},
   "outputs": [],
   "source": [
    "z1 = model.encode()"
   ]
  },
  {
   "cell_type": "code",
   "execution_count": 20,
   "metadata": {},
   "outputs": [],
   "source": [
    "final_edge_index = model.decode_all(z1)"
   ]
  },
  {
   "cell_type": "code",
   "execution_count": 21,
   "metadata": {},
   "outputs": [
    {
     "data": {
      "text/plain": [
       "tensor([[   0,    0,    0,  ..., 2707, 2707, 2707],\n",
       "        [   0,    2,    4,  ..., 2705, 2706, 2707]])"
      ]
     },
     "execution_count": 21,
     "metadata": {},
     "output_type": "execute_result"
    }
   ],
   "source": [
    "final_edge_index"
   ]
  },
  {
   "cell_type": "code",
   "execution_count": 23,
   "metadata": {},
   "outputs": [
    {
     "data": {
      "text/plain": [
       "tensor([[   0,    0,    0,  ..., 2707, 2707, 2707],\n",
       "        [   0,    2,    4,  ..., 2705, 2706, 2707]])"
      ]
     },
     "execution_count": 23,
     "metadata": {},
     "output_type": "execute_result"
    }
   ],
   "source": [
    "final_edge_index = model.decode_all(z)\n",
    "final_edge_index"
   ]
  },
  {
   "cell_type": "code",
   "execution_count": 18,
   "metadata": {},
   "outputs": [],
   "source": [
    "z = model.encode()\n",
    "final_edge_index = model.decode_all(z)"
   ]
  },
  {
   "cell_type": "code",
   "execution_count": 40,
   "metadata": {},
   "outputs": [
    {
     "data": {
      "text/plain": [
       "tensor([   0,    1,    2,  ..., 2705, 2706, 2707])"
      ]
     },
     "execution_count": 40,
     "metadata": {},
     "output_type": "execute_result"
    }
   ],
   "source": [
    "final_edge_index[1]"
   ]
  },
  {
   "cell_type": "code",
   "execution_count": 27,
   "metadata": {},
   "outputs": [
    {
     "name": "stdout",
     "output_type": "stream",
     "text": [
      "tensor(2707)\n",
      "tensor(2706)\n"
     ]
    }
   ],
   "source": [
    "print(final_edge_index[0][-2])\n",
    "print(final_edge_index[1][-2])"
   ]
  },
  {
   "cell_type": "code",
   "execution_count": 37,
   "metadata": {},
   "outputs": [
    {
     "data": {
      "text/plain": [
       "tensor([   0,    0,    0,  ..., 2707, 2707, 2707])"
      ]
     },
     "execution_count": 37,
     "metadata": {},
     "output_type": "execute_result"
    }
   ],
   "source": [
    "final_edge_index[0]"
   ]
  },
  {
   "cell_type": "code",
   "execution_count": null,
   "metadata": {},
   "outputs": [],
   "source": []
  },
  {
   "cell_type": "markdown",
   "metadata": {},
   "source": [
    "### not important"
   ]
  },
  {
   "cell_type": "code",
   "execution_count": 60,
   "metadata": {},
   "outputs": [],
   "source": [
    "import numpy as np\n",
    "import pandas as pd"
   ]
  },
  {
   "cell_type": "code",
   "execution_count": 61,
   "metadata": {},
   "outputs": [],
   "source": [
    "df = pd.read_json('ner_sent.json')"
   ]
  },
  {
   "cell_type": "code",
   "execution_count": 62,
   "metadata": {},
   "outputs": [
    {
     "data": {
      "text/html": [
       "<div>\n",
       "<style scoped>\n",
       "    .dataframe tbody tr th:only-of-type {\n",
       "        vertical-align: middle;\n",
       "    }\n",
       "\n",
       "    .dataframe tbody tr th {\n",
       "        vertical-align: top;\n",
       "    }\n",
       "\n",
       "    .dataframe thead th {\n",
       "        text-align: right;\n",
       "    }\n",
       "</style>\n",
       "<table border=\"1\" class=\"dataframe\">\n",
       "  <thead>\n",
       "    <tr style=\"text-align: right;\">\n",
       "      <th></th>\n",
       "      <th>Sentence_no</th>\n",
       "      <th>word_tag</th>\n",
       "      <th>only_tags</th>\n",
       "      <th>only_words</th>\n",
       "      <th>sentences</th>\n",
       "    </tr>\n",
       "  </thead>\n",
       "  <tbody>\n",
       "    <tr>\n",
       "      <th>0</th>\n",
       "      <td>0</td>\n",
       "      <td>[[ক্ষয়, B-SYM], [রোগ, O], [থেকে, O], [বাচ্চার,...</td>\n",
       "      <td>[B-SYM, O, O, B-GEN, O, O]</td>\n",
       "      <td>[ক্ষয়, রোগ, থেকে, বাচ্চার, উপায়, কি]</td>\n",
       "      <td>ক্ষয় রোগ থেকে বাচ্চার উপায় কি</td>\n",
       "    </tr>\n",
       "    <tr>\n",
       "      <th>1</th>\n",
       "      <td>1</td>\n",
       "      <td>[[ধাতু, B-HBL], [দুর্বলতা, B-SYM]]</td>\n",
       "      <td>[B-HBL, B-SYM]</td>\n",
       "      <td>[ধাতু, দুর্বলতা]</td>\n",
       "      <td>ধাতু দুর্বলতা</td>\n",
       "    </tr>\n",
       "    <tr>\n",
       "      <th>2</th>\n",
       "      <td>2</td>\n",
       "      <td>[[ক্ষয়, B-SYM], [রোগের, O], [সমাধান, O], [কি, O]]</td>\n",
       "      <td>[B-SYM, O, O, O]</td>\n",
       "      <td>[ক্ষয়, রোগের, সমাধান, কি]</td>\n",
       "      <td>ক্ষয় রোগের সমাধান কি</td>\n",
       "    </tr>\n",
       "    <tr>\n",
       "      <th>3</th>\n",
       "      <td>3</td>\n",
       "      <td>[[আপু, B-GEN], [আমার, O], [গত, O], [মাস, O], [...</td>\n",
       "      <td>[B-GEN, O, O, O, O, B-MNS, O, B-SYM, B-INT, O]</td>\n",
       "      <td>[আপু, আমার, গত, মাস, ধরে, পিরিয়ড, হলে, ব্লিডিং...</td>\n",
       "      <td>আপু আমার গত মাস ধরে পিরিয়ড হলে ব্লিডিং বেশি হচ্ছে</td>\n",
       "    </tr>\n",
       "    <tr>\n",
       "      <th>4</th>\n",
       "      <td>4</td>\n",
       "      <td>[[মাস, O], [পিরিয়ড, B-MNS], [হয়, O], [না, O], ...</td>\n",
       "      <td>[O, B-MNS, O, O, O, O, O, O, O, O, O, O]</td>\n",
       "      <td>[মাস, পিরিয়ড, হয়, না, অাবার, মাস, ঠিক, থাকে, অ...</td>\n",
       "      <td>মাস পিরিয়ড হয় না অাবার মাস ঠিক থাকে অাবার একি ...</td>\n",
       "    </tr>\n",
       "    <tr>\n",
       "      <th>...</th>\n",
       "      <td>...</td>\n",
       "      <td>...</td>\n",
       "      <td>...</td>\n",
       "      <td>...</td>\n",
       "      <td>...</td>\n",
       "    </tr>\n",
       "    <tr>\n",
       "      <th>661712</th>\n",
       "      <td>661712</td>\n",
       "      <td>[[আমি, O], [অনেক, B-INT], [হস্তমৈতুন, B-ACN], ...</td>\n",
       "      <td>[O, B-INT, B-ACN, O, O, O, O, O, O, O, O, O]</td>\n",
       "      <td>[আমি, অনেক, হস্তমৈতুন, করি, তো, এখন, আমার, কি,...</td>\n",
       "      <td>আমি অনেক হস্তমৈতুন করি তো এখন আমার কি কোন প্রব...</td>\n",
       "    </tr>\n",
       "    <tr>\n",
       "      <th>661713</th>\n",
       "      <td>661713</td>\n",
       "      <td>[[আমি, O], [অনেক, B-INT], [আগে, O], [থেকেই, O]...</td>\n",
       "      <td>[O, B-INT, O, O, B-EXO, B-INO, O, O, O, O, O, ...</td>\n",
       "      <td>[আমি, অনেক, আগে, থেকেই, হাত, মাড়ি, কিনতু, এখন,...</td>\n",
       "      <td>আমি অনেক আগে থেকেই হাত মাড়ি কিনতু এখন আমি কোন ...</td>\n",
       "    </tr>\n",
       "    <tr>\n",
       "      <th>661714</th>\n",
       "      <td>661714</td>\n",
       "      <td>[[হস্তমৈথুন, B-ACN], [না, O], [করার, O], [ও, O...</td>\n",
       "      <td>[B-ACN, O, O, O, O, O]</td>\n",
       "      <td>[হস্তমৈথুন, না, করার, ও, পচায়, কি]</td>\n",
       "      <td>হস্তমৈথুন না করার ও পচায় কি</td>\n",
       "    </tr>\n",
       "    <tr>\n",
       "      <th>661715</th>\n",
       "      <td>661715</td>\n",
       "      <td>[[বছর, O], [যাবত, O], [হস্তমৈথুন, B-ACN], [করছ...</td>\n",
       "      <td>[O, O, B-ACN, O, O, O, O, O, O, O]</td>\n",
       "      <td>[বছর, যাবত, হস্তমৈথুন, করছি, এখনো, ছাড়তে, পারছ...</td>\n",
       "      <td>বছর যাবত হস্তমৈথুন করছি এখনো ছাড়তে পারছি না কি...</td>\n",
       "    </tr>\n",
       "    <tr>\n",
       "      <th>661716</th>\n",
       "      <td>661716</td>\n",
       "      <td>[[আমি, O], [ঠিক, O], [কত, O], [দিন, O], [পর, O...</td>\n",
       "      <td>[O, O, O, O, O, O, O, B-ACN, O, O]</td>\n",
       "      <td>[আমি, ঠিক, কত, দিন, পর, পর, হস্ত, মৈথুন, করতে,...</td>\n",
       "      <td>আমি ঠিক কত দিন পর পর হস্ত মৈথুন করতে পারবো</td>\n",
       "    </tr>\n",
       "  </tbody>\n",
       "</table>\n",
       "<p>661717 rows × 5 columns</p>\n",
       "</div>"
      ],
      "text/plain": [
       "        Sentence_no                                           word_tag  \\\n",
       "0                 0  [[ক্ষয়, B-SYM], [রোগ, O], [থেকে, O], [বাচ্চার,...   \n",
       "1                 1                 [[ধাতু, B-HBL], [দুর্বলতা, B-SYM]]   \n",
       "2                 2  [[ক্ষয়, B-SYM], [রোগের, O], [সমাধান, O], [কি, O]]   \n",
       "3                 3  [[আপু, B-GEN], [আমার, O], [গত, O], [মাস, O], [...   \n",
       "4                 4  [[মাস, O], [পিরিয়ড, B-MNS], [হয়, O], [না, O], ...   \n",
       "...             ...                                                ...   \n",
       "661712       661712  [[আমি, O], [অনেক, B-INT], [হস্তমৈতুন, B-ACN], ...   \n",
       "661713       661713  [[আমি, O], [অনেক, B-INT], [আগে, O], [থেকেই, O]...   \n",
       "661714       661714  [[হস্তমৈথুন, B-ACN], [না, O], [করার, O], [ও, O...   \n",
       "661715       661715  [[বছর, O], [যাবত, O], [হস্তমৈথুন, B-ACN], [করছ...   \n",
       "661716       661716  [[আমি, O], [ঠিক, O], [কত, O], [দিন, O], [পর, O...   \n",
       "\n",
       "                                                only_tags  \\\n",
       "0                              [B-SYM, O, O, B-GEN, O, O]   \n",
       "1                                          [B-HBL, B-SYM]   \n",
       "2                                        [B-SYM, O, O, O]   \n",
       "3          [B-GEN, O, O, O, O, B-MNS, O, B-SYM, B-INT, O]   \n",
       "4                [O, B-MNS, O, O, O, O, O, O, O, O, O, O]   \n",
       "...                                                   ...   \n",
       "661712       [O, B-INT, B-ACN, O, O, O, O, O, O, O, O, O]   \n",
       "661713  [O, B-INT, O, O, B-EXO, B-INO, O, O, O, O, O, ...   \n",
       "661714                             [B-ACN, O, O, O, O, O]   \n",
       "661715                 [O, O, B-ACN, O, O, O, O, O, O, O]   \n",
       "661716                 [O, O, O, O, O, O, O, B-ACN, O, O]   \n",
       "\n",
       "                                               only_words  \\\n",
       "0                    [ক্ষয়, রোগ, থেকে, বাচ্চার, উপায়, কি]   \n",
       "1                                        [ধাতু, দুর্বলতা]   \n",
       "2                               [ক্ষয়, রোগের, সমাধান, কি]   \n",
       "3       [আপু, আমার, গত, মাস, ধরে, পিরিয়ড, হলে, ব্লিডিং...   \n",
       "4       [মাস, পিরিয়ড, হয়, না, অাবার, মাস, ঠিক, থাকে, অ...   \n",
       "...                                                   ...   \n",
       "661712  [আমি, অনেক, হস্তমৈতুন, করি, তো, এখন, আমার, কি,...   \n",
       "661713  [আমি, অনেক, আগে, থেকেই, হাত, মাড়ি, কিনতু, এখন,...   \n",
       "661714                 [হস্তমৈথুন, না, করার, ও, পচায়, কি]   \n",
       "661715  [বছর, যাবত, হস্তমৈথুন, করছি, এখনো, ছাড়তে, পারছ...   \n",
       "661716  [আমি, ঠিক, কত, দিন, পর, পর, হস্ত, মৈথুন, করতে,...   \n",
       "\n",
       "                                                sentences  \n",
       "0                           ক্ষয় রোগ থেকে বাচ্চার উপায় কি  \n",
       "1                                           ধাতু দুর্বলতা  \n",
       "2                                    ক্ষয় রোগের সমাধান কি  \n",
       "3       আপু আমার গত মাস ধরে পিরিয়ড হলে ব্লিডিং বেশি হচ্ছে  \n",
       "4       মাস পিরিয়ড হয় না অাবার মাস ঠিক থাকে অাবার একি ...  \n",
       "...                                                   ...  \n",
       "661712  আমি অনেক হস্তমৈতুন করি তো এখন আমার কি কোন প্রব...  \n",
       "661713  আমি অনেক আগে থেকেই হাত মাড়ি কিনতু এখন আমি কোন ...  \n",
       "661714                        হস্তমৈথুন না করার ও পচায় কি  \n",
       "661715  বছর যাবত হস্তমৈথুন করছি এখনো ছাড়তে পারছি না কি...  \n",
       "661716         আমি ঠিক কত দিন পর পর হস্ত মৈথুন করতে পারবো  \n",
       "\n",
       "[661717 rows x 5 columns]"
      ]
     },
     "execution_count": 62,
     "metadata": {},
     "output_type": "execute_result"
    }
   ],
   "source": [
    "df"
   ]
  },
  {
   "cell_type": "code",
   "execution_count": null,
   "metadata": {},
   "outputs": [],
   "source": []
  }
 ],
 "metadata": {
  "interpreter": {
   "hash": "d1a8d93525cc29cc11ac152c39a920e102dc18c0c52f1ba707311e2556195507"
  },
  "kernelspec": {
   "display_name": "Python 3.8.12 64-bit ('py_env': conda)",
   "language": "python",
   "name": "python3"
  },
  "language_info": {
   "codemirror_mode": {
    "name": "ipython",
    "version": 3
   },
   "file_extension": ".py",
   "mimetype": "text/x-python",
   "name": "python",
   "nbconvert_exporter": "python",
   "pygments_lexer": "ipython3",
   "version": "3.8.12"
  },
  "orig_nbformat": 4
 },
 "nbformat": 4,
 "nbformat_minor": 2
}
