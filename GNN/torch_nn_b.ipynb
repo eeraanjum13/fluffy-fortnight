{
 "cells": [
  {
   "cell_type": "code",
   "execution_count": 12,
   "metadata": {},
   "outputs": [],
   "source": [
    "import torch\n",
    "import torchvision\n",
    "import torchvision.transforms as transforms\n",
    "import torch.nn as nn \n",
    "import torch.nn.functional as F\n",
    "import matplotlib.pyplot as plt\n",
    "import torch.optim as optim\n"
   ]
  },
  {
   "cell_type": "code",
   "execution_count": 15,
   "metadata": {},
   "outputs": [],
   "source": [
    "batch_size = 10\n",
    "epochs = 2\n",
    "lr = 0.001\n",
    "num_classes = 10\n",
    "input_size = 784\n",
    "hidden1=100"
   ]
  },
  {
   "cell_type": "code",
   "execution_count": 3,
   "metadata": {},
   "outputs": [],
   "source": [
    "train = torchvision.datasets.MNIST(root = './data', train = True, transform = transforms.ToTensor(), download= True)\n",
    "test = torchvision.datasets.MNIST(root = './data', train = False, transform = transforms.ToTensor())"
   ]
  },
  {
   "cell_type": "code",
   "execution_count": 4,
   "metadata": {},
   "outputs": [],
   "source": [
    "trainset = torch.utils.data.DataLoader(dataset = train, batch_size = batch_size, shuffle = True)\n",
    "testset = torch.utils.data.DataLoader(dataset = test, batch_size= batch_size, shuffle=True)\n",
    "\n"
   ]
  },
  {
   "cell_type": "markdown",
   "metadata": {},
   "source": [
    "### Neural Network Class "
   ]
  },
  {
   "cell_type": "code",
   "execution_count": 6,
   "metadata": {},
   "outputs": [
    {
     "name": "stdout",
     "output_type": "stream",
     "text": [
      "NeuralNet(\n",
      "  (fc1): Linear(in_features=784, out_features=100, bias=True)\n",
      "  (relu): ReLU()\n",
      "  (fc2): Linear(in_features=100, out_features=10, bias=True)\n",
      ")\n"
     ]
    }
   ],
   "source": [
    "class NeuralNet(nn.Module):\n",
    "    def __init__(self, input_size, hidden1, num_classes):\n",
    "        super().__init__()\n",
    "\n",
    "        # defining the layers\n",
    "\n",
    "        self.fc1 = nn.Linear(input_size, hidden1)\n",
    "        self.relu = nn.ReLU()\n",
    "        self.fc2 = nn.Linear(hidden1, num_classes)\n",
    "\n",
    "    def forward(self, x):\n",
    "        output = self.fc1(x)\n",
    "        output = self.relu(output)\n",
    "        output = self.fc2(output)\n",
    "\n",
    "        return F.log_softmax(output, dim=1)\n",
    "\n",
    "\n",
    "\n",
    "net = NeuralNet(input_size, hidden1, num_classes)\n",
    "print(net)\n",
    "        "
   ]
  },
  {
   "cell_type": "code",
   "execution_count": 10,
   "metadata": {},
   "outputs": [],
   "source": [
    "X = torch.rand(28, 28)\n",
    "X = X.view(1, 28*28)"
   ]
  },
  {
   "cell_type": "markdown",
   "metadata": {},
   "source": [
    "P assing the randomized tensors through the model in a dimension which is desired. Hence we reshape the whole X tensor"
   ]
  },
  {
   "cell_type": "code",
   "execution_count": 11,
   "metadata": {},
   "outputs": [
    {
     "data": {
      "text/plain": [
       "tensor([[-2.4919, -2.3944, -2.6334, -2.2578, -2.3612, -2.2274, -2.3045, -2.2540,\n",
       "         -2.3360, -1.9243]], grad_fn=<LogSoftmaxBackward0>)"
      ]
     },
     "execution_count": 11,
     "metadata": {},
     "output_type": "execute_result"
    }
   ],
   "source": [
    "net(X) #"
   ]
  },
  {
   "cell_type": "code",
   "execution_count": 14,
   "metadata": {},
   "outputs": [
    {
     "data": {
      "text/plain": [
       "<bound method Module.parameters of NeuralNet(\n",
       "  (fc1): Linear(in_features=784, out_features=100, bias=True)\n",
       "  (relu): ReLU()\n",
       "  (fc2): Linear(in_features=100, out_features=10, bias=True)\n",
       ")>"
      ]
     },
     "execution_count": 14,
     "metadata": {},
     "output_type": "execute_result"
    }
   ],
   "source": [
    "net.parameters"
   ]
  },
  {
   "cell_type": "code",
   "execution_count": 17,
   "metadata": {},
   "outputs": [
    {
     "name": "stdout",
     "output_type": "stream",
     "text": [
      "tensor(0.1179, grad_fn=<NllLossBackward0>)\n",
      "tensor(0.0573, grad_fn=<NllLossBackward0>)\n"
     ]
    }
   ],
   "source": [
    "optimizer = optim.Adam(net.parameters(), lr = lr)\n",
    "\n",
    "for epoch in range(epochs):\n",
    "    for data in trainset:\n",
    "        # data is a batch of features and labels\n",
    "\n",
    "        x, y = data\n",
    "\n",
    "        net.zero_grad()\n",
    "\n",
    "        output = net(x.view(-1, 28*28))\n",
    "\n",
    "        # now calc how wrong were we\n",
    "\n",
    "        loss = F.nll_loss(output, y)\n",
    "        loss.backward()\n",
    "        optimizer.step()\n",
    "    print(loss)\n",
    "    \n",
    "\n"
   ]
  },
  {
   "cell_type": "code",
   "execution_count": 22,
   "metadata": {},
   "outputs": [
    {
     "name": "stdout",
     "output_type": "stream",
     "text": [
      "0\n",
      "tensor([ -4.0390, -12.4763,  -7.1594,  -1.9790,  -7.6070,  -8.0271,  -8.5430,\n",
      "         -8.4840,  -0.2721,  -2.5210], grad_fn=<UnbindBackward0>)\n",
      "tensor(8)\n",
      "1\n",
      "tensor([-1.4156e+01, -1.2875e+01, -1.1540e+01, -1.2969e+01, -1.2296e+01,\n",
      "        -9.1108e+00, -2.8106e-04, -2.5166e+01, -8.8003e+00, -2.1477e+01],\n",
      "       grad_fn=<UnbindBackward0>)\n",
      "tensor(6)\n",
      "2\n",
      "tensor([-1.5932e+01, -2.5947e+01, -1.9393e+01, -1.6551e+01, -1.6982e+01,\n",
      "        -1.4941e+01, -5.9605e-07, -2.2031e+01, -1.7209e+01, -1.8755e+01],\n",
      "       grad_fn=<UnbindBackward0>)\n",
      "tensor(6)\n",
      "3\n",
      "tensor([-2.3781e+01, -2.8083e+01, -1.4980e+01, -1.5115e+01, -3.0509e+01,\n",
      "        -2.1333e+01, -4.2369e+01, -1.0729e-06, -2.5256e+01, -1.4469e+01],\n",
      "       grad_fn=<UnbindBackward0>)\n",
      "tensor(7)\n",
      "4\n",
      "tensor([-2.3949e+01, -1.0174e+01, -2.9674e-03, -8.5721e+00, -2.8911e+01,\n",
      "        -1.4659e+01, -2.4664e+01, -1.2504e+01, -5.9030e+00, -2.0251e+01],\n",
      "       grad_fn=<UnbindBackward0>)\n",
      "tensor(2)\n",
      "5\n",
      "tensor([-1.9602e+01, -1.9932e+01, -1.2881e+01, -1.2242e+01, -2.7086e+01,\n",
      "        -1.9317e+01, -3.3474e+01, -2.3365e-05, -1.8020e+01, -1.1044e+01],\n",
      "       grad_fn=<UnbindBackward0>)\n",
      "tensor(7)\n",
      "6\n",
      "tensor([-1.4542e+01, -2.0278e+01, -1.3983e+01, -2.0093e+01, -1.2575e+01,\n",
      "        -1.3849e+01, -5.8412e-06, -1.9021e+01, -1.6697e+01, -2.1583e+01],\n",
      "       grad_fn=<UnbindBackward0>)\n",
      "tensor(6)\n",
      "7\n",
      "tensor([-1.7199e+01, -7.1965e-04, -9.8179e+00, -1.1236e+01, -1.3342e+01,\n",
      "        -1.1079e+01, -1.0516e+01, -1.0701e+01, -7.4463e+00, -1.3460e+01],\n",
      "       grad_fn=<UnbindBackward0>)\n",
      "tensor(1)\n",
      "8\n",
      "tensor([-2.2164e+01, -2.0630e+01, -1.3564e+01, -1.2842e+01, -2.9144e+01,\n",
      "        -2.4658e+01, -3.7345e+01, -4.0531e-06, -2.0778e+01, -1.5776e+01],\n",
      "       grad_fn=<UnbindBackward0>)\n",
      "tensor(7)\n",
      "9\n",
      "tensor([-15.9503, -15.1872, -15.6745, -10.1965, -15.9284,  -0.2972,  -1.3638,\n",
      "        -19.6662,  -6.5758, -12.7367], grad_fn=<UnbindBackward0>)\n",
      "tensor(5)\n"
     ]
    }
   ],
   "source": [
    "\n",
    "for idx, i in enumerate(output):\n",
    "    print(idx)\n",
    "    print(i)\n",
    "    print(torch.argmax(i))"
   ]
  },
  {
   "cell_type": "code",
   "execution_count": 23,
   "metadata": {},
   "outputs": [
    {
     "name": "stdout",
     "output_type": "stream",
     "text": [
      "Accuracy:  0.978\n"
     ]
    }
   ],
   "source": [
    "correct =0 \n",
    "total = 0\n",
    "\n",
    "with torch.no_grad():\n",
    "    for data in trainset:\n",
    "        x, y = data\n",
    "\n",
    "        output = net(x.view(-1, 28*28))\n",
    "\n",
    "        for idx, out in enumerate(output):\n",
    "            if torch.argmax(out) == y[idx]:\n",
    "                correct += 1\n",
    "            \n",
    "            total += 1\n",
    "\n",
    "print(\"Accuracy: \", round(correct/total, 3))\n",
    "                "
   ]
  },
  {
   "cell_type": "code",
   "execution_count": 37,
   "metadata": {},
   "outputs": [
    {
     "data": {
      "image/png": "[encoded data removed]",
      "text/plain": [
       "<Figure size 432x288 with 1 Axes>"
      ]
     },
     "metadata": {
      "needs_background": "light"
     },
     "output_type": "display_data"
    }
   ],
   "source": [
    "plt.imshow(x[9].view(28,28))\n",
    "\n",
    "plt.show()"
   ]
  },
  {
   "cell_type": "code",
   "execution_count": 38,
   "metadata": {},
   "outputs": [
    {
     "data": {
      "text/plain": [
       "tensor(3)"
      ]
     },
     "execution_count": 38,
     "metadata": {},
     "output_type": "execute_result"
    }
   ],
   "source": [
    "torch.argmax(net(x[9].view(-1, 784))[0])"
   ]
  },
  {
   "cell_type": "code",
   "execution_count": null,
   "metadata": {},
   "outputs": [],
   "source": []
  }
 ],
 "metadata": {
  "interpreter": {
   "hash": "d1a8d93525cc29cc11ac152c39a920e102dc18c0c52f1ba707311e2556195507"
  },
  "kernelspec": {
   "display_name": "Python 3.8.12 64-bit ('py_env': conda)",
   "language": "python",
   "name": "python3"
  },
  "language_info": {
   "codemirror_mode": {
    "name": "ipython",
    "version": 3
   },
   "file_extension": ".py",
   "mimetype": "text/x-python",
   "name": "python",
   "nbconvert_exporter": "python",
   "pygments_lexer": "ipython3",
   "version": "3.8.12"
  },
  "orig_nbformat": 4
 },
 "nbformat": 4,
 "nbformat_minor": 2
}
