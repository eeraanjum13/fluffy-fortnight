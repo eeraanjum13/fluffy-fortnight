{
 "cells": [
  {
   "cell_type": "code",
   "execution_count": 1,
   "metadata": {},
   "outputs": [],
   "source": [
    "import torch\n",
    "import os\n",
    "import pandas as pd\n",
    "from torch_geometric.data import InMemoryDataset, Data, download_url, extract_zip\n",
    "from torch_geometric.utils.convert import to_networkx\n",
    "import networkx as nx\n",
    "from tqdm import tqdm\n",
    "import matplotlib.pyplot as plt"
   ]
  },
  {
   "cell_type": "markdown",
   "metadata": {},
   "source": [
    "The following is the README of the dataset:\n",
    "\n",
    "FRANKENSTEIN contains the following comma separated text files:\n",
    "\n",
    "n: total number of nodes m: total number of edges N: number of graphs\n",
    "\n",
    "*.node_attrs (n lines) matrix of node attributes, the comma seperated values in the i-th line is the attribute vector of the node with node_id i\n",
    "\n",
    "*.edges (m lines) sparse (block diagonal) adjacency matrix for all graphs, each line corresponds to (row, col) resp. (node_id, node_id)\n",
    "\n",
    "*.graph_labels (N lines) class labels for all graphs in the dataset, the value in the i-th line is the class label of the graph with graph_id i\n",
    "\n",
    "*.graph_idx (n lines) column vector of graph identifiers for all nodes of all graphs, the value in the i-th line is the graph_id of the node with node_id i"
   ]
  },
  {
   "cell_type": "markdown",
   "metadata": {},
   "source": [
    "### In this section, the breakdown of Process() method from Data Module on PyG is shown."
   ]
  },
  {
   "cell_type": "code",
   "execution_count": 2,
   "metadata": {},
   "outputs": [],
   "source": [
    "raw_dir = \"FRANKENSTEIN\"\n",
    "\n",
    "path = os.path.join(raw_dir, 'FRANKENSTEIN.node_attrs')\n",
    "node_attrs = pd.read_csv(path, sep=',', header=None)\n",
    "node_attrs.index += 1\n",
    "\n",
    "path = os.path.join(raw_dir, 'FRANKENSTEIN.edges')\n",
    "edge_index = pd.read_csv(path, sep=',', names=['source', 'target'])\n",
    "edge_index.index += 1"
   ]
  },
  {
   "cell_type": "code",
   "execution_count": 3,
   "metadata": {},
   "outputs": [],
   "source": [
    "path = os.path.join(raw_dir, 'FRANKENSTEIN.graph_idx')\n",
    "graph_idx = pd.read_csv(path, sep=',', names=['idx'])\n",
    "graph_idx.index += 1\n",
    "\n",
    "path = os.path.join(raw_dir, 'FRANKENSTEIN.graph_labels')\n",
    "graph_labels = pd.read_csv(path, sep=',', names=['label'])\n",
    "graph_labels.index += 1\n"
   ]
  },
  {
   "cell_type": "markdown",
   "metadata": {},
   "source": [
    "## Basic Exploring"
   ]
  },
  {
   "cell_type": "code",
   "execution_count": 11,
   "metadata": {},
   "outputs": [
    {
     "data": {
      "text/plain": [
       "idx \n",
       "3904    214\n",
       "847     197\n",
       "1702    194\n",
       "1861    146\n",
       "3224    108\n",
       "       ... \n",
       "2365      3\n",
       "4290      3\n",
       "3226      2\n",
       "3631      2\n",
       "3118      2\n",
       "Length: 4337, dtype: int64"
      ]
     },
     "execution_count": 11,
     "metadata": {},
     "output_type": "execute_result"
    }
   ],
   "source": [
    "graph_idx.value_counts()"
   ]
  },
  {
   "cell_type": "markdown",
   "metadata": {},
   "source": [
    "### Multiple Graphs exist. There are 4337 graphs inside this data"
   ]
  },
  {
   "cell_type": "markdown",
   "metadata": {},
   "source": [
    "Checking the 2365th graph nodes. Looks like 38892, 38893 and 38894 are nodes of this graph\n"
   ]
  },
  {
   "cell_type": "code",
   "execution_count": 12,
   "metadata": {},
   "outputs": [
    {
     "data": {
      "text/html": [
       "<div>\n",
       "<style scoped>\n",
       "    .dataframe tbody tr th:only-of-type {\n",
       "        vertical-align: middle;\n",
       "    }\n",
       "\n",
       "    .dataframe tbody tr th {\n",
       "        vertical-align: top;\n",
       "    }\n",
       "\n",
       "    .dataframe thead th {\n",
       "        text-align: right;\n",
       "    }\n",
       "</style>\n",
       "<table border=\"1\" class=\"dataframe\">\n",
       "  <thead>\n",
       "    <tr style=\"text-align: right;\">\n",
       "      <th></th>\n",
       "      <th>idx</th>\n",
       "    </tr>\n",
       "  </thead>\n",
       "  <tbody>\n",
       "    <tr>\n",
       "      <th>38892</th>\n",
       "      <td>2365</td>\n",
       "    </tr>\n",
       "    <tr>\n",
       "      <th>38893</th>\n",
       "      <td>2365</td>\n",
       "    </tr>\n",
       "    <tr>\n",
       "      <th>38894</th>\n",
       "      <td>2365</td>\n",
       "    </tr>\n",
       "  </tbody>\n",
       "</table>\n",
       "</div>"
      ],
      "text/plain": [
       "        idx\n",
       "38892  2365\n",
       "38893  2365\n",
       "38894  2365"
      ]
     },
     "execution_count": 12,
     "metadata": {},
     "output_type": "execute_result"
    }
   ],
   "source": [
    "graph_idx[graph_idx['idx'] == 2365 ]"
   ]
  },
  {
   "cell_type": "markdown",
   "metadata": {},
   "source": [
    "Checking the Edges of one of the nodes = 38892"
   ]
  },
  {
   "cell_type": "code",
   "execution_count": 15,
   "metadata": {},
   "outputs": [
    {
     "data": {
      "text/html": [
       "<div>\n",
       "<style scoped>\n",
       "    .dataframe tbody tr th:only-of-type {\n",
       "        vertical-align: middle;\n",
       "    }\n",
       "\n",
       "    .dataframe tbody tr th {\n",
       "        vertical-align: top;\n",
       "    }\n",
       "\n",
       "    .dataframe thead th {\n",
       "        text-align: right;\n",
       "    }\n",
       "</style>\n",
       "<table border=\"1\" class=\"dataframe\">\n",
       "  <thead>\n",
       "    <tr style=\"text-align: right;\">\n",
       "      <th></th>\n",
       "      <th>source</th>\n",
       "      <th>target</th>\n",
       "    </tr>\n",
       "  </thead>\n",
       "  <tbody>\n",
       "    <tr>\n",
       "      <th>82267</th>\n",
       "      <td>38892</td>\n",
       "      <td>38893</td>\n",
       "    </tr>\n",
       "    <tr>\n",
       "      <th>82269</th>\n",
       "      <td>38892</td>\n",
       "      <td>38894</td>\n",
       "    </tr>\n",
       "  </tbody>\n",
       "</table>\n",
       "</div>"
      ],
      "text/plain": [
       "       source  target\n",
       "82267   38892   38893\n",
       "82269   38892   38894"
      ]
     },
     "execution_count": 15,
     "metadata": {},
     "output_type": "execute_result"
    }
   ],
   "source": [
    "edge_index[edge_index['source'] == 38892]"
   ]
  },
  {
   "cell_type": "markdown",
   "metadata": {},
   "source": [
    "They are connected."
   ]
  },
  {
   "cell_type": "markdown",
   "metadata": {},
   "source": [
    "### Checking the labels of the graphs\n"
   ]
  },
  {
   "cell_type": "code",
   "execution_count": 5,
   "metadata": {},
   "outputs": [
    {
     "data": {
      "text/plain": [
       "label\n",
       " 1       2401\n",
       "-1       1936\n",
       "dtype: int64"
      ]
     },
     "execution_count": 5,
     "metadata": {},
     "output_type": "execute_result"
    }
   ],
   "source": [
    "graph_labels.value_counts()"
   ]
  },
  {
   "cell_type": "code",
   "execution_count": 6,
   "metadata": {},
   "outputs": [
    {
     "data": {
      "text/html": [
       "<div>\n",
       "<style scoped>\n",
       "    .dataframe tbody tr th:only-of-type {\n",
       "        vertical-align: middle;\n",
       "    }\n",
       "\n",
       "    .dataframe tbody tr th {\n",
       "        vertical-align: top;\n",
       "    }\n",
       "\n",
       "    .dataframe thead th {\n",
       "        text-align: right;\n",
       "    }\n",
       "</style>\n",
       "<table border=\"1\" class=\"dataframe\">\n",
       "  <thead>\n",
       "    <tr style=\"text-align: right;\">\n",
       "      <th></th>\n",
       "      <th>source</th>\n",
       "      <th>target</th>\n",
       "    </tr>\n",
       "  </thead>\n",
       "  <tbody>\n",
       "    <tr>\n",
       "      <th>1</th>\n",
       "      <td>1</td>\n",
       "      <td>2</td>\n",
       "    </tr>\n",
       "    <tr>\n",
       "      <th>2</th>\n",
       "      <td>2</td>\n",
       "      <td>1</td>\n",
       "    </tr>\n",
       "    <tr>\n",
       "      <th>3</th>\n",
       "      <td>1</td>\n",
       "      <td>3</td>\n",
       "    </tr>\n",
       "    <tr>\n",
       "      <th>4</th>\n",
       "      <td>3</td>\n",
       "      <td>1</td>\n",
       "    </tr>\n",
       "    <tr>\n",
       "      <th>5</th>\n",
       "      <td>1</td>\n",
       "      <td>4</td>\n",
       "    </tr>\n",
       "    <tr>\n",
       "      <th>...</th>\n",
       "      <td>...</td>\n",
       "      <td>...</td>\n",
       "    </tr>\n",
       "    <tr>\n",
       "      <th>155064</th>\n",
       "      <td>73282</td>\n",
       "      <td>73279</td>\n",
       "    </tr>\n",
       "    <tr>\n",
       "      <th>155065</th>\n",
       "      <td>73281</td>\n",
       "      <td>73283</td>\n",
       "    </tr>\n",
       "    <tr>\n",
       "      <th>155066</th>\n",
       "      <td>73283</td>\n",
       "      <td>73281</td>\n",
       "    </tr>\n",
       "    <tr>\n",
       "      <th>155067</th>\n",
       "      <td>73282</td>\n",
       "      <td>73283</td>\n",
       "    </tr>\n",
       "    <tr>\n",
       "      <th>155068</th>\n",
       "      <td>73283</td>\n",
       "      <td>73282</td>\n",
       "    </tr>\n",
       "  </tbody>\n",
       "</table>\n",
       "<p>155068 rows × 2 columns</p>\n",
       "</div>"
      ],
      "text/plain": [
       "        source  target\n",
       "1            1       2\n",
       "2            2       1\n",
       "3            1       3\n",
       "4            3       1\n",
       "5            1       4\n",
       "...        ...     ...\n",
       "155064   73282   73279\n",
       "155065   73281   73283\n",
       "155066   73283   73281\n",
       "155067   73282   73283\n",
       "155068   73283   73282\n",
       "\n",
       "[155068 rows x 2 columns]"
      ]
     },
     "execution_count": 6,
     "metadata": {},
     "output_type": "execute_result"
    }
   ],
   "source": [
    "edge_index"
   ]
  },
  {
   "cell_type": "code",
   "execution_count": 7,
   "metadata": {},
   "outputs": [
    {
     "data": {
      "text/html": [
       "<div>\n",
       "<style scoped>\n",
       "    .dataframe tbody tr th:only-of-type {\n",
       "        vertical-align: middle;\n",
       "    }\n",
       "\n",
       "    .dataframe tbody tr th {\n",
       "        vertical-align: top;\n",
       "    }\n",
       "\n",
       "    .dataframe thead th {\n",
       "        text-align: right;\n",
       "    }\n",
       "</style>\n",
       "<table border=\"1\" class=\"dataframe\">\n",
       "  <thead>\n",
       "    <tr style=\"text-align: right;\">\n",
       "      <th></th>\n",
       "      <th>0</th>\n",
       "      <th>1</th>\n",
       "      <th>2</th>\n",
       "      <th>3</th>\n",
       "      <th>4</th>\n",
       "      <th>5</th>\n",
       "      <th>6</th>\n",
       "      <th>7</th>\n",
       "      <th>8</th>\n",
       "      <th>9</th>\n",
       "      <th>...</th>\n",
       "      <th>770</th>\n",
       "      <th>771</th>\n",
       "      <th>772</th>\n",
       "      <th>773</th>\n",
       "      <th>774</th>\n",
       "      <th>775</th>\n",
       "      <th>776</th>\n",
       "      <th>777</th>\n",
       "      <th>778</th>\n",
       "      <th>779</th>\n",
       "    </tr>\n",
       "  </thead>\n",
       "  <tbody>\n",
       "    <tr>\n",
       "      <th>1</th>\n",
       "      <td>0</td>\n",
       "      <td>0</td>\n",
       "      <td>0</td>\n",
       "      <td>0</td>\n",
       "      <td>0</td>\n",
       "      <td>0</td>\n",
       "      <td>0</td>\n",
       "      <td>0</td>\n",
       "      <td>0</td>\n",
       "      <td>0</td>\n",
       "      <td>...</td>\n",
       "      <td>0.0</td>\n",
       "      <td>0.0</td>\n",
       "      <td>0.0</td>\n",
       "      <td>0.0</td>\n",
       "      <td>0.0</td>\n",
       "      <td>0.0</td>\n",
       "      <td>0.0</td>\n",
       "      <td>0.0</td>\n",
       "      <td>0.0</td>\n",
       "      <td>0</td>\n",
       "    </tr>\n",
       "    <tr>\n",
       "      <th>2</th>\n",
       "      <td>0</td>\n",
       "      <td>0</td>\n",
       "      <td>0</td>\n",
       "      <td>0</td>\n",
       "      <td>0</td>\n",
       "      <td>0</td>\n",
       "      <td>0</td>\n",
       "      <td>0</td>\n",
       "      <td>0</td>\n",
       "      <td>0</td>\n",
       "      <td>...</td>\n",
       "      <td>0.0</td>\n",
       "      <td>0.0</td>\n",
       "      <td>0.0</td>\n",
       "      <td>0.0</td>\n",
       "      <td>0.0</td>\n",
       "      <td>0.0</td>\n",
       "      <td>0.0</td>\n",
       "      <td>0.0</td>\n",
       "      <td>0.0</td>\n",
       "      <td>0</td>\n",
       "    </tr>\n",
       "    <tr>\n",
       "      <th>3</th>\n",
       "      <td>0</td>\n",
       "      <td>0</td>\n",
       "      <td>0</td>\n",
       "      <td>0</td>\n",
       "      <td>0</td>\n",
       "      <td>0</td>\n",
       "      <td>0</td>\n",
       "      <td>0</td>\n",
       "      <td>0</td>\n",
       "      <td>0</td>\n",
       "      <td>...</td>\n",
       "      <td>0.0</td>\n",
       "      <td>0.0</td>\n",
       "      <td>0.0</td>\n",
       "      <td>0.0</td>\n",
       "      <td>0.0</td>\n",
       "      <td>0.0</td>\n",
       "      <td>0.0</td>\n",
       "      <td>0.0</td>\n",
       "      <td>0.0</td>\n",
       "      <td>0</td>\n",
       "    </tr>\n",
       "    <tr>\n",
       "      <th>4</th>\n",
       "      <td>0</td>\n",
       "      <td>0</td>\n",
       "      <td>0</td>\n",
       "      <td>0</td>\n",
       "      <td>0</td>\n",
       "      <td>0</td>\n",
       "      <td>0</td>\n",
       "      <td>0</td>\n",
       "      <td>0</td>\n",
       "      <td>0</td>\n",
       "      <td>...</td>\n",
       "      <td>0.0</td>\n",
       "      <td>0.0</td>\n",
       "      <td>0.0</td>\n",
       "      <td>0.0</td>\n",
       "      <td>0.0</td>\n",
       "      <td>0.0</td>\n",
       "      <td>0.0</td>\n",
       "      <td>0.0</td>\n",
       "      <td>0.0</td>\n",
       "      <td>0</td>\n",
       "    </tr>\n",
       "    <tr>\n",
       "      <th>5</th>\n",
       "      <td>0</td>\n",
       "      <td>0</td>\n",
       "      <td>0</td>\n",
       "      <td>0</td>\n",
       "      <td>0</td>\n",
       "      <td>0</td>\n",
       "      <td>0</td>\n",
       "      <td>0</td>\n",
       "      <td>0</td>\n",
       "      <td>0</td>\n",
       "      <td>...</td>\n",
       "      <td>0.0</td>\n",
       "      <td>0.0</td>\n",
       "      <td>0.0</td>\n",
       "      <td>0.0</td>\n",
       "      <td>0.0</td>\n",
       "      <td>0.0</td>\n",
       "      <td>0.0</td>\n",
       "      <td>0.0</td>\n",
       "      <td>0.0</td>\n",
       "      <td>0</td>\n",
       "    </tr>\n",
       "    <tr>\n",
       "      <th>...</th>\n",
       "      <td>...</td>\n",
       "      <td>...</td>\n",
       "      <td>...</td>\n",
       "      <td>...</td>\n",
       "      <td>...</td>\n",
       "      <td>...</td>\n",
       "      <td>...</td>\n",
       "      <td>...</td>\n",
       "      <td>...</td>\n",
       "      <td>...</td>\n",
       "      <td>...</td>\n",
       "      <td>...</td>\n",
       "      <td>...</td>\n",
       "      <td>...</td>\n",
       "      <td>...</td>\n",
       "      <td>...</td>\n",
       "      <td>...</td>\n",
       "      <td>...</td>\n",
       "      <td>...</td>\n",
       "      <td>...</td>\n",
       "      <td>...</td>\n",
       "    </tr>\n",
       "    <tr>\n",
       "      <th>73279</th>\n",
       "      <td>0</td>\n",
       "      <td>0</td>\n",
       "      <td>0</td>\n",
       "      <td>0</td>\n",
       "      <td>0</td>\n",
       "      <td>0</td>\n",
       "      <td>0</td>\n",
       "      <td>0</td>\n",
       "      <td>0</td>\n",
       "      <td>0</td>\n",
       "      <td>...</td>\n",
       "      <td>0.0</td>\n",
       "      <td>0.0</td>\n",
       "      <td>0.0</td>\n",
       "      <td>0.0</td>\n",
       "      <td>0.0</td>\n",
       "      <td>0.0</td>\n",
       "      <td>0.0</td>\n",
       "      <td>0.0</td>\n",
       "      <td>0.0</td>\n",
       "      <td>0</td>\n",
       "    </tr>\n",
       "    <tr>\n",
       "      <th>73280</th>\n",
       "      <td>0</td>\n",
       "      <td>0</td>\n",
       "      <td>0</td>\n",
       "      <td>0</td>\n",
       "      <td>0</td>\n",
       "      <td>0</td>\n",
       "      <td>0</td>\n",
       "      <td>0</td>\n",
       "      <td>0</td>\n",
       "      <td>0</td>\n",
       "      <td>...</td>\n",
       "      <td>0.0</td>\n",
       "      <td>0.0</td>\n",
       "      <td>0.0</td>\n",
       "      <td>0.0</td>\n",
       "      <td>0.0</td>\n",
       "      <td>0.0</td>\n",
       "      <td>0.0</td>\n",
       "      <td>0.0</td>\n",
       "      <td>0.0</td>\n",
       "      <td>0</td>\n",
       "    </tr>\n",
       "    <tr>\n",
       "      <th>73281</th>\n",
       "      <td>0</td>\n",
       "      <td>0</td>\n",
       "      <td>0</td>\n",
       "      <td>0</td>\n",
       "      <td>0</td>\n",
       "      <td>0</td>\n",
       "      <td>0</td>\n",
       "      <td>0</td>\n",
       "      <td>0</td>\n",
       "      <td>0</td>\n",
       "      <td>...</td>\n",
       "      <td>0.0</td>\n",
       "      <td>0.0</td>\n",
       "      <td>0.0</td>\n",
       "      <td>0.0</td>\n",
       "      <td>0.0</td>\n",
       "      <td>0.0</td>\n",
       "      <td>0.0</td>\n",
       "      <td>0.0</td>\n",
       "      <td>0.0</td>\n",
       "      <td>0</td>\n",
       "    </tr>\n",
       "    <tr>\n",
       "      <th>73282</th>\n",
       "      <td>0</td>\n",
       "      <td>0</td>\n",
       "      <td>0</td>\n",
       "      <td>0</td>\n",
       "      <td>0</td>\n",
       "      <td>0</td>\n",
       "      <td>0</td>\n",
       "      <td>0</td>\n",
       "      <td>0</td>\n",
       "      <td>0</td>\n",
       "      <td>...</td>\n",
       "      <td>0.0</td>\n",
       "      <td>0.0</td>\n",
       "      <td>0.0</td>\n",
       "      <td>0.0</td>\n",
       "      <td>0.0</td>\n",
       "      <td>0.0</td>\n",
       "      <td>0.0</td>\n",
       "      <td>0.0</td>\n",
       "      <td>0.0</td>\n",
       "      <td>0</td>\n",
       "    </tr>\n",
       "    <tr>\n",
       "      <th>73283</th>\n",
       "      <td>0</td>\n",
       "      <td>0</td>\n",
       "      <td>0</td>\n",
       "      <td>0</td>\n",
       "      <td>0</td>\n",
       "      <td>0</td>\n",
       "      <td>0</td>\n",
       "      <td>0</td>\n",
       "      <td>0</td>\n",
       "      <td>0</td>\n",
       "      <td>...</td>\n",
       "      <td>0.0</td>\n",
       "      <td>0.0</td>\n",
       "      <td>0.0</td>\n",
       "      <td>0.0</td>\n",
       "      <td>0.0</td>\n",
       "      <td>0.0</td>\n",
       "      <td>0.0</td>\n",
       "      <td>0.0</td>\n",
       "      <td>0.0</td>\n",
       "      <td>0</td>\n",
       "    </tr>\n",
       "  </tbody>\n",
       "</table>\n",
       "<p>73283 rows × 780 columns</p>\n",
       "</div>"
      ],
      "text/plain": [
       "       0    1    2    3    4    5    6    7    8    9    ...  770  771  772  \\\n",
       "1        0    0    0    0    0    0    0    0    0    0  ...  0.0  0.0  0.0   \n",
       "2        0    0    0    0    0    0    0    0    0    0  ...  0.0  0.0  0.0   \n",
       "3        0    0    0    0    0    0    0    0    0    0  ...  0.0  0.0  0.0   \n",
       "4        0    0    0    0    0    0    0    0    0    0  ...  0.0  0.0  0.0   \n",
       "5        0    0    0    0    0    0    0    0    0    0  ...  0.0  0.0  0.0   \n",
       "...    ...  ...  ...  ...  ...  ...  ...  ...  ...  ...  ...  ...  ...  ...   \n",
       "73279    0    0    0    0    0    0    0    0    0    0  ...  0.0  0.0  0.0   \n",
       "73280    0    0    0    0    0    0    0    0    0    0  ...  0.0  0.0  0.0   \n",
       "73281    0    0    0    0    0    0    0    0    0    0  ...  0.0  0.0  0.0   \n",
       "73282    0    0    0    0    0    0    0    0    0    0  ...  0.0  0.0  0.0   \n",
       "73283    0    0    0    0    0    0    0    0    0    0  ...  0.0  0.0  0.0   \n",
       "\n",
       "       773  774  775  776  777  778  779  \n",
       "1      0.0  0.0  0.0  0.0  0.0  0.0    0  \n",
       "2      0.0  0.0  0.0  0.0  0.0  0.0    0  \n",
       "3      0.0  0.0  0.0  0.0  0.0  0.0    0  \n",
       "4      0.0  0.0  0.0  0.0  0.0  0.0    0  \n",
       "5      0.0  0.0  0.0  0.0  0.0  0.0    0  \n",
       "...    ...  ...  ...  ...  ...  ...  ...  \n",
       "73279  0.0  0.0  0.0  0.0  0.0  0.0    0  \n",
       "73280  0.0  0.0  0.0  0.0  0.0  0.0    0  \n",
       "73281  0.0  0.0  0.0  0.0  0.0  0.0    0  \n",
       "73282  0.0  0.0  0.0  0.0  0.0  0.0    0  \n",
       "73283  0.0  0.0  0.0  0.0  0.0  0.0    0  \n",
       "\n",
       "[73283 rows x 780 columns]"
      ]
     },
     "execution_count": 7,
     "metadata": {},
     "output_type": "execute_result"
    }
   ],
   "source": [
    "node_attrs"
   ]
  },
  {
   "cell_type": "code",
   "execution_count": null,
   "metadata": {},
   "outputs": [],
   "source": []
  },
  {
   "cell_type": "markdown",
   "metadata": {},
   "source": []
  },
  {
   "cell_type": "markdown",
   "metadata": {},
   "source": [
    "## Back to Code"
   ]
  },
  {
   "cell_type": "code",
   "execution_count": 16,
   "metadata": {},
   "outputs": [],
   "source": [
    "g_idx=2345 # taking a specific graph index\n",
    "\n",
    "node_ids = graph_idx.loc[graph_idx['idx']==g_idx].index\n",
    "            \n",
    "# Node features\n",
    "attributes = node_attrs.loc[node_ids, :]\n",
    "\n",
    "# Edges info\n",
    "edges = edge_index.loc[edge_index['source'].isin(node_ids)]\n",
    "edges_ids = edges.index\n",
    "\n",
    "# Graph label\n",
    "label = graph_labels.loc[g_idx]"
   ]
  },
  {
   "cell_type": "code",
   "execution_count": 17,
   "metadata": {},
   "outputs": [
    {
     "name": "stdout",
     "output_type": "stream",
     "text": [
      "Nodes: (18,)\n",
      "Attributes: (18, 780)\n",
      "Edges: (38, 2)\n",
      "Label: (1,)\n"
     ]
    }
   ],
   "source": [
    "print(\"Nodes:\", node_ids.shape)\n",
    "print(\"Attributes:\", attributes.shape)\n",
    "print(\"Edges:\", edges.shape)\n",
    "print(\"Label:\", label.shape)"
   ]
  },
  {
   "cell_type": "code",
   "execution_count": 72,
   "metadata": {},
   "outputs": [],
   "source": [
    "testlist = [i  for i in range(50)]"
   ]
  },
  {
   "cell_type": "code",
   "execution_count": 18,
   "metadata": {},
   "outputs": [
    {
     "name": "stdout",
     "output_type": "stream",
     "text": [
      "Nodes: Int64Index([38571, 38572, 38573, 38574, 38575, 38576, 38577, 38578, 38579,\n",
      "            38580, 38581, 38582, 38583, 38584, 38585, 38586, 38587, 38588],\n",
      "           dtype='int64')\n",
      "Attributes:        0    1    2    3    4    5    6    7    8    9    ...  770  771  772  \\\n",
      "38571    0    0    0    0    0    0    0    0    0    0  ...  0.0  0.0  0.0   \n",
      "38572    0    0    0    0    0    0    0    0    0    0  ...  0.0  0.0  0.0   \n",
      "38573    0    0    0    0    0    0    0    0    0    0  ...  0.0  0.0  0.0   \n",
      "38574    0    0    0    0    0    0    0    0    0    0  ...  0.0  0.0  0.0   \n",
      "38575    0    0    0    0    0    0    0    0    0    0  ...  0.0  0.0  0.0   \n",
      "38576    0    0    0    0    0    0    0    0    0    0  ...  0.0  0.0  0.0   \n",
      "38577    0    0    0    0    0    0    0    0    0    0  ...  0.0  0.0  0.0   \n",
      "38578    0    0    0    0    0    0    0    0    0    0  ...  0.0  0.0  0.0   \n",
      "38579    0    0    0    0    0    0    0    0    0    0  ...  0.0  0.0  0.0   \n",
      "38580    0    0    0    0    0    0    0    0    0    0  ...  0.0  0.0  0.0   \n",
      "38581    0    0    0    0    0    0    0    0    0    0  ...  0.0  0.0  0.0   \n",
      "38582    0    0    0    0    0    0    0    0    0    0  ...  0.0  0.0  0.0   \n",
      "38583    0    0    0    0    0    0    0    0    0    0  ...  0.0  0.0  0.0   \n",
      "38584    0    0    0    0    0    0    0    0    0    0  ...  0.0  0.0  0.0   \n",
      "38585    0    0    0    0    0    0    0    0    0    0  ...  0.0  0.0  0.0   \n",
      "38586    0    0    0    0    0    0    0    0    0    0  ...  0.0  0.0  0.0   \n",
      "38587    0    0    0    0    0    0    0    0    0    0  ...  0.0  0.0  0.0   \n",
      "38588    0    0    0    0    0    0    0    0    0    0  ...  0.0  0.0  0.0   \n",
      "\n",
      "       773  774  775  776  777  778  779  \n",
      "38571  0.0  0.0  0.0  0.0  0.0  0.0    0  \n",
      "38572  0.0  0.0  0.0  0.0  0.0  0.0    0  \n",
      "38573  0.0  0.0  0.0  0.0  0.0  0.0    0  \n",
      "38574  0.0  0.0  0.0  0.0  0.0  0.0    0  \n",
      "38575  0.0  0.0  0.0  0.0  0.0  0.0    0  \n",
      "38576  0.0  0.0  0.0  0.0  0.0  0.0    0  \n",
      "38577  0.0  0.0  0.0  0.0  0.0  0.0    0  \n",
      "38578  0.0  0.0  0.0  0.0  0.0  0.0    0  \n",
      "38579  0.0  0.0  0.0  0.0  0.0  0.0    0  \n",
      "38580  0.0  0.0  0.0  0.0  0.0  0.0    0  \n",
      "38581  0.0  0.0  0.0  0.0  0.0  0.0    0  \n",
      "38582  0.0  0.0  0.0  0.0  0.0  0.0    0  \n",
      "38583  0.0  0.0  0.0  0.0  0.0  0.0    0  \n",
      "38584  0.0  0.0  0.0  0.0  0.0  0.0    0  \n",
      "38585  0.0  0.0  0.0  0.0  0.0  0.0    0  \n",
      "38586  0.0  0.0  0.0  0.0  0.0  0.0    0  \n",
      "38587  0.0  0.0  0.0  0.0  0.0  0.0    0  \n",
      "38588  0.0  0.0  0.0  0.0  0.0  0.0    0  \n",
      "\n",
      "[18 rows x 780 columns]\n",
      "Edges:        source  target\n",
      "81573   38571   38572\n",
      "81574   38572   38571\n",
      "81575   38571   38573\n",
      "81576   38573   38571\n",
      "81577   38571   38574\n",
      "81578   38574   38571\n",
      "81579   38572   38575\n",
      "81580   38575   38572\n",
      "81581   38572   38576\n",
      "81582   38576   38572\n",
      "81583   38573   38577\n",
      "81584   38577   38573\n",
      "81585   38574   38578\n",
      "81586   38578   38574\n",
      "81587   38575   38579\n",
      "81588   38579   38575\n",
      "81589   38575   38580\n",
      "81590   38580   38575\n",
      "81591   38577   38581\n",
      "81592   38581   38577\n",
      "81593   38578   38581\n",
      "81594   38581   38578\n",
      "81595   38581   38582\n",
      "81596   38582   38581\n",
      "81597   38582   38583\n",
      "81598   38583   38582\n",
      "81599   38583   38584\n",
      "81600   38584   38583\n",
      "81601   38583   38585\n",
      "81602   38585   38583\n",
      "81603   38584   38586\n",
      "81604   38586   38584\n",
      "81605   38585   38587\n",
      "81606   38587   38585\n",
      "81607   38586   38588\n",
      "81608   38588   38586\n",
      "81609   38587   38588\n",
      "81610   38588   38587\n",
      "Label: label    1\n",
      "Name: 2345, dtype: int64\n"
     ]
    }
   ],
   "source": [
    "print(\"Nodes:\", node_ids)\n",
    "print(\"Attributes:\", attributes)\n",
    "print(\"Edges:\", edges)\n",
    "print(\"Label:\", label)"
   ]
  },
  {
   "cell_type": "code",
   "execution_count": 69,
   "metadata": {},
   "outputs": [],
   "source": [
    "edge_idx = torch.tensor(edges.to_numpy().transpose(), dtype=torch.long)\n",
    "map_dict = {v.item():i for i,v in enumerate(torch.unique(edge_idx))}\n",
    "map_edge = torch.zeros_like(edge_idx)\n",
    "for k,v in map_dict.items():\n",
    "    map_edge[edge_idx==k] = v"
   ]
  },
  {
   "cell_type": "code",
   "execution_count": 71,
   "metadata": {},
   "outputs": [
    {
     "data": {
      "text/plain": [
       "tensor([[38571, 38572, 38571, 38573, 38571, 38574, 38572, 38575, 38572, 38576,\n",
       "         38573, 38577, 38574, 38578, 38575, 38579, 38575, 38580, 38577, 38581,\n",
       "         38578, 38581, 38581, 38582, 38582, 38583, 38583, 38584, 38583, 38585,\n",
       "         38584, 38586, 38585, 38587, 38586, 38588, 38587, 38588],\n",
       "        [38572, 38571, 38573, 38571, 38574, 38571, 38575, 38572, 38576, 38572,\n",
       "         38577, 38573, 38578, 38574, 38579, 38575, 38580, 38575, 38581, 38577,\n",
       "         38581, 38578, 38582, 38581, 38583, 38582, 38584, 38583, 38585, 38583,\n",
       "         38586, 38584, 38587, 38585, 38588, 38586, 38588, 38587]])"
      ]
     },
     "execution_count": 71,
     "metadata": {},
     "output_type": "execute_result"
    }
   ],
   "source": [
    "edge_idx"
   ]
  },
  {
   "cell_type": "code",
   "execution_count": 70,
   "metadata": {},
   "outputs": [
    {
     "data": {
      "text/plain": [
       "tensor([[ 0,  1,  0,  2,  0,  3,  1,  4,  1,  5,  2,  6,  3,  7,  4,  8,  4,  9,\n",
       "          6, 10,  7, 10, 10, 11, 11, 12, 12, 13, 12, 14, 13, 15, 14, 16, 15, 17,\n",
       "         16, 17],\n",
       "        [ 1,  0,  2,  0,  3,  0,  4,  1,  5,  1,  6,  2,  7,  3,  8,  4,  9,  4,\n",
       "         10,  6, 10,  7, 11, 10, 12, 11, 13, 12, 14, 12, 15, 13, 16, 14, 17, 15,\n",
       "         17, 16]])"
      ]
     },
     "execution_count": 70,
     "metadata": {},
     "output_type": "execute_result"
    }
   ],
   "source": [
    "map_edge"
   ]
  },
  {
   "cell_type": "markdown",
   "metadata": {},
   "source": [
    "### Breakdown of the code above"
   ]
  },
  {
   "cell_type": "code",
   "execution_count": 28,
   "metadata": {},
   "outputs": [
    {
     "data": {
      "text/plain": [
       "tensor([[38571, 38572, 38571, 38573, 38571, 38574, 38572, 38575, 38572, 38576,\n",
       "         38573, 38577, 38574, 38578, 38575, 38579, 38575, 38580, 38577, 38581,\n",
       "         38578, 38581, 38581, 38582, 38582, 38583, 38583, 38584, 38583, 38585,\n",
       "         38584, 38586, 38585, 38587, 38586, 38588, 38587, 38588],\n",
       "        [38572, 38571, 38573, 38571, 38574, 38571, 38575, 38572, 38576, 38572,\n",
       "         38577, 38573, 38578, 38574, 38579, 38575, 38580, 38575, 38581, 38577,\n",
       "         38581, 38578, 38582, 38581, 38583, 38582, 38584, 38583, 38585, 38583,\n",
       "         38586, 38584, 38587, 38585, 38588, 38586, 38588, 38587]])"
      ]
     },
     "execution_count": 28,
     "metadata": {},
     "output_type": "execute_result"
    }
   ],
   "source": [
    "torch.tensor(edges.to_numpy().transpose(), dtype=torch.long)"
   ]
  },
  {
   "cell_type": "code",
   "execution_count": 36,
   "metadata": {},
   "outputs": [],
   "source": [
    "testmap = {}\n",
    "for i, v in enumerate(torch.unique(edge_idx)):\n",
    "    testmap[v.item()] = i"
   ]
  },
  {
   "cell_type": "code",
   "execution_count": 37,
   "metadata": {},
   "outputs": [
    {
     "data": {
      "text/plain": [
       "{38571: 0,\n",
       " 38572: 1,\n",
       " 38573: 2,\n",
       " 38574: 3,\n",
       " 38575: 4,\n",
       " 38576: 5,\n",
       " 38577: 6,\n",
       " 38578: 7,\n",
       " 38579: 8,\n",
       " 38580: 9,\n",
       " 38581: 10,\n",
       " 38582: 11,\n",
       " 38583: 12,\n",
       " 38584: 13,\n",
       " 38585: 14,\n",
       " 38586: 15,\n",
       " 38587: 16,\n",
       " 38588: 17}"
      ]
     },
     "execution_count": 37,
     "metadata": {},
     "output_type": "execute_result"
    }
   ],
   "source": [
    "testmap"
   ]
  },
  {
   "cell_type": "code",
   "execution_count": 45,
   "metadata": {},
   "outputs": [],
   "source": [
    "map_edge = torch.zeros_like(edge_idx)"
   ]
  },
  {
   "cell_type": "code",
   "execution_count": 46,
   "metadata": {},
   "outputs": [
    {
     "name": "stdout",
     "output_type": "stream",
     "text": [
      "38571 0\n",
      "38572 1\n",
      "38573 2\n",
      "38574 3\n",
      "38575 4\n",
      "38576 5\n",
      "38577 6\n",
      "38578 7\n",
      "38579 8\n",
      "38580 9\n",
      "38581 10\n",
      "38582 11\n",
      "38583 12\n",
      "38584 13\n",
      "38585 14\n",
      "38586 15\n",
      "38587 16\n",
      "38588 17\n"
     ]
    }
   ],
   "source": [
    "for k, v in map_dict.items():\n",
    "    print(k, v)"
   ]
  },
  {
   "cell_type": "code",
   "execution_count": 47,
   "metadata": {},
   "outputs": [
    {
     "data": {
      "text/plain": [
       "tensor([[0, 0, 0, 0, 0, 0, 0, 0, 0, 0, 0, 0, 0, 0, 0, 0, 0, 0, 0, 0, 0, 0, 0, 0,\n",
       "         0, 0, 0, 0, 0, 0, 0, 0, 0, 0, 0, 0, 0, 0],\n",
       "        [0, 0, 0, 0, 0, 0, 0, 0, 0, 0, 0, 0, 0, 0, 0, 0, 0, 0, 0, 0, 0, 0, 0, 0,\n",
       "         0, 0, 0, 0, 0, 0, 0, 0, 0, 0, 0, 0, 0, 0]])"
      ]
     },
     "execution_count": 47,
     "metadata": {},
     "output_type": "execute_result"
    }
   ],
   "source": [
    "map_edge"
   ]
  },
  {
   "cell_type": "code",
   "execution_count": 42,
   "metadata": {},
   "outputs": [
    {
     "data": {
      "text/plain": [
       "tensor([[38571, 38572, 38571, 38573, 38571, 38574, 38572, 38575, 38572, 38576,\n",
       "         38573, 38577, 38574, 38578, 38575, 38579, 38575, 38580, 38577, 38581,\n",
       "         38578, 38581, 38581, 38582, 38582, 38583, 38583, 38584, 38583, 38585,\n",
       "         38584, 38586, 38585, 38587, 38586, 38588, 38587, 38588],\n",
       "        [38572, 38571, 38573, 38571, 38574, 38571, 38575, 38572, 38576, 38572,\n",
       "         38577, 38573, 38578, 38574, 38579, 38575, 38580, 38575, 38581, 38577,\n",
       "         38581, 38578, 38582, 38581, 38583, 38582, 38584, 38583, 38585, 38583,\n",
       "         38586, 38584, 38587, 38585, 38588, 38586, 38588, 38587]])"
      ]
     },
     "execution_count": 42,
     "metadata": {},
     "output_type": "execute_result"
    }
   ],
   "source": [
    "edge_idx"
   ]
  },
  {
   "cell_type": "code",
   "execution_count": 63,
   "metadata": {},
   "outputs": [
    {
     "data": {
      "text/plain": [
       "tensor(0)"
      ]
     },
     "execution_count": 63,
     "metadata": {},
     "output_type": "execute_result"
    }
   ],
   "source": [
    "edge_idx[0][0]"
   ]
  },
  {
   "cell_type": "code",
   "execution_count": null,
   "metadata": {},
   "outputs": [],
   "source": []
  },
  {
   "cell_type": "code",
   "execution_count": 68,
   "metadata": {},
   "outputs": [],
   "source": [
    "for k,v in map_dict.items(): \n",
    "    t = edge_idx==k\n",
    "    map_edge[edge_idx==k] = v # what the hell is this assignment"
   ]
  },
  {
   "cell_type": "code",
   "execution_count": null,
   "metadata": {},
   "outputs": [],
   "source": []
  },
  {
   "cell_type": "code",
   "execution_count": 22,
   "metadata": {},
   "outputs": [
    {
     "data": {
      "text/plain": [
       "(tensor([[38571, 38572, 38571, 38573, 38571, 38574, 38572, 38575, 38572, 38576,\n",
       "          38573, 38577, 38574, 38578, 38575, 38579, 38575, 38580, 38577, 38581,\n",
       "          38578, 38581, 38581, 38582, 38582, 38583, 38583, 38584, 38583, 38585,\n",
       "          38584, 38586, 38585, 38587, 38586, 38588, 38587, 38588],\n",
       "         [38572, 38571, 38573, 38571, 38574, 38571, 38575, 38572, 38576, 38572,\n",
       "          38577, 38573, 38578, 38574, 38579, 38575, 38580, 38575, 38581, 38577,\n",
       "          38581, 38578, 38582, 38581, 38583, 38582, 38584, 38583, 38585, 38583,\n",
       "          38586, 38584, 38587, 38585, 38588, 38586, 38588, 38587]]),\n",
       " torch.Size([2, 38]))"
      ]
     },
     "execution_count": 22,
     "metadata": {},
     "output_type": "execute_result"
    }
   ],
   "source": [
    "edge_idx, edge_idx.shape"
   ]
  },
  {
   "cell_type": "code",
   "execution_count": 20,
   "metadata": {},
   "outputs": [
    {
     "data": {
      "text/plain": [
       "({38571: 0,\n",
       "  38572: 1,\n",
       "  38573: 2,\n",
       "  38574: 3,\n",
       "  38575: 4,\n",
       "  38576: 5,\n",
       "  38577: 6,\n",
       "  38578: 7,\n",
       "  38579: 8,\n",
       "  38580: 9,\n",
       "  38581: 10,\n",
       "  38582: 11,\n",
       "  38583: 12,\n",
       "  38584: 13,\n",
       "  38585: 14,\n",
       "  38586: 15,\n",
       "  38587: 16,\n",
       "  38588: 17},\n",
       " tensor([[ 0,  1,  0,  2,  0,  3,  1,  4,  1,  5,  2,  6,  3,  7,  4,  8,  4,  9,\n",
       "           6, 10,  7, 10, 10, 11, 11, 12, 12, 13, 12, 14, 13, 15, 14, 16, 15, 17,\n",
       "          16, 17],\n",
       "         [ 1,  0,  2,  0,  3,  0,  4,  1,  5,  1,  6,  2,  7,  3,  8,  4,  9,  4,\n",
       "          10,  6, 10,  7, 11, 10, 12, 11, 13, 12, 14, 12, 15, 13, 16, 14, 17, 15,\n",
       "          17, 16]]),\n",
       " torch.Size([2, 38]))"
      ]
     },
     "execution_count": 20,
     "metadata": {},
     "output_type": "execute_result"
    }
   ],
   "source": [
    "map_dict, map_edge, map_edge.shape"
   ]
  },
  {
   "cell_type": "markdown",
   "metadata": {},
   "source": [
    "### BACK TO Code"
   ]
  },
  {
   "cell_type": "code",
   "execution_count": 55,
   "metadata": {},
   "outputs": [],
   "source": [
    "attrs = torch.tensor(attributes.to_numpy(), dtype=torch.float) # Dataframe to tensor format\n",
    "pad = torch.zeros((attrs.shape[0], 4), dtype=torch.float) # adding extra 4 columns\n",
    "x = torch.cat((attrs, pad), dim=-1)\n",
    "\n",
    "edge_idx = map_edge.long()\n",
    "\n",
    "np_lab = label.to_numpy()\n",
    "y = torch.tensor(np_lab if np_lab[0] == 1 else [0], dtype=torch.long)"
   ]
  },
  {
   "cell_type": "code",
   "execution_count": 56,
   "metadata": {},
   "outputs": [
    {
     "data": {
      "text/plain": [
       "torch.Size([18, 784])"
      ]
     },
     "execution_count": 56,
     "metadata": {},
     "output_type": "execute_result"
    }
   ],
   "source": [
    "x.shape # 18 nodes in the specified Graph, with 784 features in each"
   ]
  },
  {
   "cell_type": "code",
   "execution_count": 57,
   "metadata": {},
   "outputs": [
    {
     "data": {
      "text/plain": [
       "tensor([[ 0,  1,  0,  2,  0,  3,  1,  4,  1,  5,  2,  6,  3,  7,  4,  8,  4,  9,\n",
       "          6, 10,  7, 10, 10, 11, 11, 12, 12, 13, 12, 14, 13, 15, 14, 16, 15, 17,\n",
       "         16, 17],\n",
       "        [ 1,  0,  2,  0,  3,  0,  4,  1,  5,  1,  6,  2,  7,  3,  8,  4,  9,  4,\n",
       "         10,  6, 10,  7, 11, 10, 12, 11, 13, 12, 14, 12, 15, 13, 16, 14, 17, 15,\n",
       "         17, 16]])"
      ]
     },
     "execution_count": 57,
     "metadata": {},
     "output_type": "execute_result"
    }
   ],
   "source": [
    "edge_idx"
   ]
  },
  {
   "cell_type": "code",
   "execution_count": 58,
   "metadata": {},
   "outputs": [],
   "source": [
    "graph = Data(x=x, edge_index=edge_idx,  y=y)"
   ]
  },
  {
   "cell_type": "code",
   "execution_count": 59,
   "metadata": {},
   "outputs": [
    {
     "data": {
      "image/png": "[encoded data removed]",
      "text/plain": [
       "<Figure size 576x576 with 1 Axes>"
      ]
     },
     "metadata": {},
     "output_type": "display_data"
    }
   ],
   "source": [
    "vis = to_networkx(graph)\n",
    "plt.figure(1,figsize=(8,8)) \n",
    "nx.draw(vis, cmap=plt.get_cmap('Set3'),node_size=70,linewidths=6)\n",
    "plt.show()"
   ]
  },
  {
   "cell_type": "code",
   "execution_count": 60,
   "metadata": {},
   "outputs": [
    {
     "data": {
      "text/plain": [
       "<matplotlib.image.AxesImage at 0x7ff4c1871ca0>"
      ]
     },
     "execution_count": 60,
     "metadata": {},
     "output_type": "execute_result"
    },
    {
     "data": {
      "image/png": "[encoded data removed]",
      "text/plain": [
       "<Figure size 288x288 with 1 Axes>"
      ]
     },
     "metadata": {
      "needs_background": "light"
     },
     "output_type": "display_data"
    }
   ],
   "source": [
    "digit = x[5].reshape(28,28)\n",
    "plt.matshow(digit, cmap='gray')"
   ]
  },
  {
   "cell_type": "code",
   "execution_count": 62,
   "metadata": {},
   "outputs": [
    {
     "data": {
      "text/plain": [
       "Data(x=[18, 784], edge_index=[2, 38], y=[1])"
      ]
     },
     "execution_count": 62,
     "metadata": {},
     "output_type": "execute_result"
    }
   ],
   "source": [
    "graph"
   ]
  },
  {
   "cell_type": "code",
   "execution_count": null,
   "metadata": {},
   "outputs": [],
   "source": []
  }
 ],
 "metadata": {
  "interpreter": {
   "hash": "d1a8d93525cc29cc11ac152c39a920e102dc18c0c52f1ba707311e2556195507"
  },
  "kernelspec": {
   "display_name": "Python 3.8.12 ('py_env')",
   "language": "python",
   "name": "python3"
  },
  "language_info": {
   "codemirror_mode": {
    "name": "ipython",
    "version": 3
   },
   "file_extension": ".py",
   "mimetype": "text/x-python",
   "name": "python",
   "nbconvert_exporter": "python",
   "pygments_lexer": "ipython3",
   "version": "3.8.12"
  },
  "orig_nbformat": 4
 },
 "nbformat": 4,
 "nbformat_minor": 2
}
