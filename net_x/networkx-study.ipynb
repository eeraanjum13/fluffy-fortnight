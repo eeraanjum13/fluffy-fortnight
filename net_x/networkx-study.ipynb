{
 "cells": [
  {
   "cell_type": "code",
   "execution_count": 3,
   "metadata": {},
   "outputs": [],
   "source": [
    "import networkx as nx\n",
    "import matplotlib.pyplot as plt\n",
    "import random"
   ]
  },
  {
   "cell_type": "code",
   "execution_count": 9,
   "metadata": {},
   "outputs": [
    {
     "name": "stdout",
     "output_type": "stream",
     "text": [
      "1\n"
     ]
    }
   ],
   "source": [
    "# --- create undirected graphs (need to revise graphs)---\n",
    "\n",
    "G = nx.Graph()\n",
    "\n",
    "# --- add nodes ---\n",
    "\n",
    "G.add_node(6)\n",
    "\n",
    "print(G.number_of_nodes())\n"
   ]
  },
  {
   "cell_type": "code",
   "execution_count": 13,
   "metadata": {},
   "outputs": [
    {
     "name": "stdout",
     "output_type": "stream",
     "text": [
      "4\n"
     ]
    }
   ],
   "source": [
    "G1 = nx.Graph()\n",
    "G1.add_edges_from([(0,1), (1,2), (2, 3)]) # -- adding undirected edge --\n",
    "print(G1.number_of_nodes())"
   ]
  },
  {
   "cell_type": "code",
   "execution_count": 22,
   "metadata": {},
   "outputs": [
    {
     "name": "stdout",
     "output_type": "stream",
     "text": [
      "3 pm\n"
     ]
    }
   ],
   "source": [
    "G2 = nx.Graph()\n",
    "\n",
    "G2.add_node(1, time = '5 pm')\n",
    "G2.add_nodes_from([3], time = '3 pm')\n",
    "\n",
    "print(G2.nodes[3]['time'])"
   ]
  },
  {
   "cell_type": "code",
   "execution_count": 23,
   "metadata": {},
   "outputs": [
    {
     "data": {
      "text/plain": [
       "NodeDataView({1: {'time': '5 pm'}, 3: {'time': '3 pm'}})"
      ]
     },
     "execution_count": 23,
     "metadata": {},
     "output_type": "execute_result"
    }
   ],
   "source": [
    "G2.nodes(data=True)"
   ]
  },
  {
   "cell_type": "code",
   "execution_count": 25,
   "metadata": {},
   "outputs": [],
   "source": [
    "G2.add_nodes_from([2], time = '2 pm')"
   ]
  },
  {
   "cell_type": "code",
   "execution_count": 27,
   "metadata": {},
   "outputs": [
    {
     "data": {
      "text/plain": [
       "AdjacencyView({1: {}, 3: {}, 2: {}})"
      ]
     },
     "execution_count": 27,
     "metadata": {},
     "output_type": "execute_result"
    }
   ],
   "source": [
    "G2.adj"
   ]
  },
  {
   "cell_type": "code",
   "execution_count": 48,
   "metadata": {},
   "outputs": [
    {
     "data": {
      "text/plain": [
       "NodeDataView({1: '5 pm', 3: '3 pm', 2: '2 pm'}, data='time')"
      ]
     },
     "execution_count": 48,
     "metadata": {},
     "output_type": "execute_result"
    }
   ],
   "source": [
    "G2.nodes(data='time')\n",
    "#G2.nodes()"
   ]
  },
  {
   "cell_type": "code",
   "execution_count": 38,
   "metadata": {},
   "outputs": [
    {
     "name": "stdout",
     "output_type": "stream",
     "text": [
      "[(0, {}), (1, {'friend': 'Tina', 'family': 'Freddy'}), (2, {'house': 'Dhanmondi'}), (3, {}), (4, {}), (5, {}), (6, {}), (7, {})]\n"
     ]
    }
   ],
   "source": [
    "# -- creating a list of edges ---\n",
    "\n",
    "e = [(0,1), (0,2), (0,3),(1,4), (1,5), (0,6), (3,7)]\n",
    "\n",
    "test_graph = nx.Graph(e)\n",
    "\n",
    "test_graph.add_nodes_from([1], friend = 'Tina')\n",
    "test_graph.add_nodes_from([1], family = 'Amerantha') # -- appending another key-value pair into the dictionary\n",
    "test_graph.add_nodes_from([1], family = 'Freddy') # -- replaces the previous value --\n",
    "\n",
    "test_graph.add_nodes_from([2], house = 'Dhanmondi')\n",
    "\n",
    "print(test_graph.nodes(data=True))"
   ]
  },
  {
   "cell_type": "code",
   "execution_count": 33,
   "metadata": {},
   "outputs": [
    {
     "name": "stdout",
     "output_type": "stream",
     "text": [
      "[(0, 1), (0, 2), (0, 3), (0, 6), (1, 4), (1, 5), (3, 7)]\n"
     ]
    }
   ],
   "source": [
    "print(test_graph.edges())"
   ]
  },
  {
   "cell_type": "code",
   "execution_count": 46,
   "metadata": {},
   "outputs": [
    {
     "name": "stdout",
     "output_type": "stream",
     "text": [
      "Tina\n"
     ]
    }
   ],
   "source": [
    "print(test_graph.nodes[1]['friend'])"
   ]
  },
  {
   "cell_type": "code",
   "execution_count": 50,
   "metadata": {},
   "outputs": [
    {
     "data": {
      "text/plain": [
       "False"
      ]
     },
     "execution_count": 50,
     "metadata": {},
     "output_type": "execute_result"
    }
   ],
   "source": [
    "test_graph.has_node(10)"
   ]
  },
  {
   "cell_type": "code",
   "execution_count": 53,
   "metadata": {},
   "outputs": [
    {
     "data": {
      "text/plain": [
       "NodeDataView({0: 'not available', 1: 'not available', 2: 'Dhanmondi', 3: 'not available', 4: 'not available', 5: 'not available', 6: 'not available', 7: 'not available'}, data='house')"
      ]
     },
     "execution_count": 53,
     "metadata": {},
     "output_type": "execute_result"
    }
   ],
   "source": [
    "test_graph.nodes(data='house', default=\"not available\")"
   ]
  },
  {
   "cell_type": "code",
   "execution_count": 68,
   "metadata": {},
   "outputs": [
    {
     "name": "stdout",
     "output_type": "stream",
     "text": [
      "[0, 1, 2, 3, 4]\n"
     ]
    }
   ],
   "source": [
    "e = [(0,1), (1,2), (2,3), (3,4), (0,4)]\n",
    "test2 = nx.Graph(e)\n",
    "\n",
    "print(test2.nodes())"
   ]
  },
  {
   "cell_type": "code",
   "execution_count": 69,
   "metadata": {},
   "outputs": [
    {
     "name": "stdout",
     "output_type": "stream",
     "text": [
      "[(0, 1), (0, 4), (1, 2), (2, 3), (3, 4)]\n"
     ]
    }
   ],
   "source": [
    "print(test2.edges())"
   ]
  },
  {
   "cell_type": "code",
   "execution_count": 70,
   "metadata": {},
   "outputs": [
    {
     "name": "stdout",
     "output_type": "stream",
     "text": [
      "[(0, {}), (1, {'prompt': 'hey'}), (2, {}), (3, {}), (4, {})]\n"
     ]
    }
   ],
   "source": [
    "test2.add_nodes_from([1], prompt ='hey')\n",
    "\n",
    "print(test2.nodes(data = True))"
   ]
  },
  {
   "cell_type": "code",
   "execution_count": 72,
   "metadata": {},
   "outputs": [
    {
     "data": {
      "text/plain": [
       "NodeDataView({0: {}, 1: {'prompt': 'hey'}, 2: {}, 3: {}, 4: {}})"
      ]
     },
     "execution_count": 72,
     "metadata": {},
     "output_type": "execute_result"
    }
   ],
   "source": [
    "test2.nodes(data=True)"
   ]
  },
  {
   "cell_type": "code",
   "execution_count": 74,
   "metadata": {},
   "outputs": [],
   "source": [
    "e2 = [(0,1), (1,3), (2,3), (3,4), (0,4), (3,5)]"
   ]
  },
  {
   "cell_type": "code",
   "execution_count": 75,
   "metadata": {},
   "outputs": [],
   "source": [
    "test2.update(edges=e2)"
   ]
  },
  {
   "cell_type": "code",
   "execution_count": 76,
   "metadata": {},
   "outputs": [
    {
     "data": {
      "text/plain": [
       "NodeDataView({0: {}, 1: {'prompt': 'hey'}, 2: {}, 3: {}, 4: {}, 5: {}})"
      ]
     },
     "execution_count": 76,
     "metadata": {},
     "output_type": "execute_result"
    }
   ],
   "source": [
    "test2.nodes(data=True)"
   ]
  },
  {
   "cell_type": "code",
   "execution_count": 79,
   "metadata": {},
   "outputs": [
    {
     "data": {
      "text/plain": [
       "EdgeView([(0, 1), (0, 4), (1, 2), (1, 3), (2, 3), (3, 4), (3, 5)])"
      ]
     },
     "execution_count": 79,
     "metadata": {},
     "output_type": "execute_result"
    }
   ],
   "source": [
    "test2.edges"
   ]
  },
  {
   "cell_type": "code",
   "execution_count": 78,
   "metadata": {},
   "outputs": [],
   "source": [
    "test2.update(edges=e2)"
   ]
  },
  {
   "cell_type": "code",
   "execution_count": 80,
   "metadata": {},
   "outputs": [],
   "source": [
    "test2.update(nodes=[6,7])"
   ]
  },
  {
   "cell_type": "code",
   "execution_count": 81,
   "metadata": {},
   "outputs": [
    {
     "data": {
      "text/plain": [
       "NodeDataView({0: {}, 1: {'prompt': 'hey'}, 2: {}, 3: {}, 4: {}, 5: {}, 6: {}, 7: {}})"
      ]
     },
     "execution_count": 81,
     "metadata": {},
     "output_type": "execute_result"
    }
   ],
   "source": [
    "test2.nodes(data=True)"
   ]
  },
  {
   "cell_type": "code",
   "execution_count": 87,
   "metadata": {},
   "outputs": [
    {
     "name": "stdout",
     "output_type": "stream",
     "text": [
      "[(0, 1), (1, 2), (2, 3), (3, 4)]\n",
      "[(0, 'na'), (1, 'na'), (2, 'na'), (3, 'na'), (4, 'Hello')]\n"
     ]
    }
   ],
   "source": [
    "G = nx.path_graph(5) # -- path_graphs are graphs where the adjacent pair is connected by an edge --\n",
    "print(G.edges)\n",
    "\n",
    "G.add_nodes_from([4], string= 'Hello')\n",
    "\n",
    "print(G.nodes(data='string', default=\"na\"))"
   ]
  },
  {
   "cell_type": "code",
   "execution_count": 95,
   "metadata": {},
   "outputs": [
    {
     "name": "stdout",
     "output_type": "stream",
     "text": [
      "(1, 2, 1.3)\n",
      "(1, 3, 1.2)\n"
     ]
    }
   ],
   "source": [
    "adj = {1: {2: {\"weight\": 1.3}, 3: {\"color\": 0.7, \"weight\": 1.2}}}\n",
    "\n",
    "for k, v in adj.items():\n",
    "    #print(k)\n",
    "    for k2, v2 in v.items():\n",
    "        #print(k2)\n",
    "        #print(v2)\n",
    "        print((k, k2, v2['weight']))\n"
   ]
  },
  {
   "cell_type": "code",
   "execution_count": 101,
   "metadata": {},
   "outputs": [],
   "source": [
    "# -- in list comprehension --\n",
    "\n",
    "e = [\n",
    "    (k, k2, {'weight': v2['weight']}) \n",
    "    for k, v in adj.items()\n",
    "    for k2, v2 in v.items()\n",
    "    \n",
    "    ]"
   ]
  },
  {
   "cell_type": "code",
   "execution_count": 102,
   "metadata": {},
   "outputs": [
    {
     "data": {
      "text/plain": [
       "[(1, 2, {'weight': 1.3}), (1, 3, {'weight': 1.2})]"
      ]
     },
     "execution_count": 102,
     "metadata": {},
     "output_type": "execute_result"
    }
   ],
   "source": [
    "e\n"
   ]
  },
  {
   "cell_type": "code",
   "execution_count": 106,
   "metadata": {},
   "outputs": [
    {
     "data": {
      "text/plain": [
       "NodeDataView({0: {}, 1: {'prompt': 'hey'}, 2: {}, 3: {}, 4: {}, 5: {}, 6: {}, 7: {}})"
      ]
     },
     "execution_count": 106,
     "metadata": {},
     "output_type": "execute_result"
    }
   ],
   "source": [
    "test2.nodes(data=True) "
   ]
  },
  {
   "cell_type": "code",
   "execution_count": 109,
   "metadata": {},
   "outputs": [
    {
     "data": {
      "text/plain": [
       "{}"
      ]
     },
     "execution_count": 109,
     "metadata": {},
     "output_type": "execute_result"
    }
   ],
   "source": [
    "test2.get_edge_data(0,1)"
   ]
  },
  {
   "cell_type": "code",
   "execution_count": 110,
   "metadata": {},
   "outputs": [],
   "source": [
    "e = [(1,0), (2,0), (5,3), (3,4)]\n",
    "\n",
    "test2.update(edges=e)"
   ]
  },
  {
   "cell_type": "code",
   "execution_count": 112,
   "metadata": {},
   "outputs": [
    {
     "data": {
      "text/plain": [
       "EdgeDataView([(0, 1, {}), (0, 4, {}), (0, 2, {}), (1, 2, {}), (1, 3, {}), (2, 3, {}), (3, 4, {}), (3, 5, {})])"
      ]
     },
     "execution_count": 112,
     "metadata": {},
     "output_type": "execute_result"
    }
   ],
   "source": [
    "test2.edges(data=True)"
   ]
  },
  {
   "cell_type": "code",
   "execution_count": null,
   "metadata": {},
   "outputs": [],
   "source": []
  }
 ],
 "metadata": {
  "interpreter": {
   "hash": "d1a8d93525cc29cc11ac152c39a920e102dc18c0c52f1ba707311e2556195507"
  },
  "kernelspec": {
   "display_name": "Python 3.8.12 64-bit ('py_env': conda)",
   "language": "python",
   "name": "python3"
  },
  "language_info": {
   "codemirror_mode": {
    "name": "ipython",
    "version": 3
   },
   "file_extension": ".py",
   "mimetype": "text/x-python",
   "name": "python",
   "nbconvert_exporter": "python",
   "pygments_lexer": "ipython3",
   "version": "3.8.12"
  },
  "orig_nbformat": 4
 },
 "nbformat": 4,
 "nbformat_minor": 2
}
